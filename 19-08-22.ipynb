{
 "cells": [
  {
   "cell_type": "markdown",
   "id": "d93ea6cc",
   "metadata": {},
   "source": [
    "program 1\n",
    "Amritha Narayanankutty\n",
    "roll no: 6"
   ]
  },
  {
   "cell_type": "code",
   "execution_count": 2,
   "id": "8e4eddb4",
   "metadata": {},
   "outputs": [
    {
     "name": "stdout",
     "output_type": "stream",
     "text": [
      "[[0 1 2]\n",
      " [3 4 5]\n",
      " [6 7 8]]\n",
      "first column\n",
      "\n",
      "[0 3 6]\n",
      "second column\n",
      "\n",
      "[1 4 7]\n",
      "third column\n",
      "\n",
      "[2 5 8]\n"
     ]
    }
   ],
   "source": [
    "import numpy as np\n",
    "x=np.arange(9).reshape(3,3)\n",
    "print(x)\n",
    "print(\"first column\\n\")\n",
    "print(x[::,0])\n",
    "print(\"second column\\n\")\n",
    "print(x[::,1])\n",
    "print(\"third column\\n\")\n",
    "print(x[::,2])"
   ]
  },
  {
   "cell_type": "code",
   "execution_count": 1,
   "id": "d54913ec",
   "metadata": {},
   "outputs": [
    {
     "name": "stdout",
     "output_type": "stream",
     "text": [
      "[[0 1 2]\n",
      " [3 4 5]\n",
      " [6 7 8]]\n",
      "[[2 4 6]\n",
      " [7 5 9]\n",
      " [8 2 5]]\n",
      "Multiplication:\n",
      " [[ 23   9  19]\n",
      " [ 74  42  79]\n",
      " [125  75 139]]\n",
      "Multiplication:\n",
      " [[ 2  5  8]\n",
      " [10  9 14]\n",
      " [14  9 13]]\n"
     ]
    }
   ],
   "source": [
    "import numpy as np\n",
    "m1=np.arange(9).reshape(3,3)\n",
    "m2=np.array([[2,4,6],[7,5,9],[8,2,5]])\n",
    "print(m1)\n",
    "print(m2)\n",
    "print(\"Multiplication:\\n\",np.matmul(m1,m2))\n",
    "print(\"Multiplication:\\n\",m1+m2)"
   ]
  },
  {
   "cell_type": "code",
   "execution_count": 11,
   "id": "f10feca9",
   "metadata": {},
   "outputs": [
    {
     "name": "stdout",
     "output_type": "stream",
     "text": [
      "[15.24087    -3.11446688 -0.12640311]\n",
      "[[-0.44925205 -0.66913741 -0.1805784 ]\n",
      " [-0.74303263 -0.21256413 -0.78763456]\n",
      " [-0.49605958  0.71208961  0.58908679]]\n"
     ]
    }
   ],
   "source": [
    "import numpy as np\n",
    "m1=np.array([[2,4,6],[7,5,9],[8,2,5]])\n",
    "w,v=np.linalg.eig(m1)\n",
    "print(w)\n",
    "print(v)"
   ]
  },
  {
   "cell_type": "code",
   "execution_count": 12,
   "id": "37a2fa96",
   "metadata": {},
   "outputs": [
    {
     "name": "stdout",
     "output_type": "stream",
     "text": [
      "(array([15.24087   , -3.11446688, -0.12640311]), array([[-0.44925205, -0.66913741, -0.1805784 ],\n",
      "       [-0.74303263, -0.21256413, -0.78763456],\n",
      "       [-0.49605958,  0.71208961,  0.58908679]]))\n"
     ]
    }
   ],
   "source": [
    "import numpy as np\n",
    "m1=np.array([[2,4,6],[7,5,9],[8,2,5]])\n",
    "v=np.linalg.eig(m1)\n",
    "print(v)"
   ]
  },
  {
   "cell_type": "code",
   "execution_count": 13,
   "id": "3abc6382",
   "metadata": {},
   "outputs": [
    {
     "name": "stdout",
     "output_type": "stream",
     "text": [
      "Transpose\n",
      " [[2 7 8]\n",
      " [4 5 2]\n",
      " [6 9 5]]\n",
      "Determinant\n",
      " 6.000000000000003\n",
      "Inverse\n",
      " [[ 1.16666667 -1.33333333  1.        ]\n",
      " [ 6.16666667 -6.33333333  4.        ]\n",
      " [-4.33333333  4.66666667 -3.        ]]\n"
     ]
    }
   ],
   "source": [
    "import numpy as np\n",
    "m1=np.array([[2,4,6],[7,5,9],[8,2,5]])\n",
    "print(\"Transpose\\n\",np.transpose(m1))\n",
    "print(\"Determinant\\n\",np.linalg.det(m1))\n",
    "print(\"Inverse\\n\",np.linalg.inv(m1))"
   ]
  },
  {
   "cell_type": "code",
   "execution_count": null,
   "id": "3fad2600",
   "metadata": {},
   "outputs": [],
   "source": []
  }
 ],
 "metadata": {
  "kernelspec": {
   "display_name": "Python 3 (ipykernel)",
   "language": "python",
   "name": "python3"
  },
  "language_info": {
   "codemirror_mode": {
    "name": "ipython",
    "version": 3
   },
   "file_extension": ".py",
   "mimetype": "text/x-python",
   "name": "python",
   "nbconvert_exporter": "python",
   "pygments_lexer": "ipython3",
   "version": "3.9.12"
  }
 },
 "nbformat": 4,
 "nbformat_minor": 5
}
