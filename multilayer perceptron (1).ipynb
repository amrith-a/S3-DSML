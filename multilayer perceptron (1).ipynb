{
 "cells": [
  {
   "cell_type": "markdown",
   "id": "6f95ad1b",
   "metadata": {},
   "source": [
    "Amritha\n",
    "Multilayer perceptron\n",
    "16-11-22"
   ]
  },
  {
   "cell_type": "code",
   "execution_count": 1,
   "id": "b7a232c3",
   "metadata": {},
   "outputs": [],
   "source": [
    "import numpy as np\n",
    "import pandas as pd\n",
    "import matplotlib.pyplot as plt\n",
    "import sklearn\n",
    "from sklearn.neural_network import MLPClassifier"
   ]
  },
  {
   "cell_type": "code",
   "execution_count": 2,
   "id": "7d62d25c",
   "metadata": {},
   "outputs": [],
   "source": [
    "df=pd.read_csv('diabetes.csv')"
   ]
  },
  {
   "cell_type": "code",
   "execution_count": 3,
   "id": "313a1c9e",
   "metadata": {},
   "outputs": [
    {
     "name": "stdout",
     "output_type": "stream",
     "text": [
      "(768, 9)\n"
     ]
    },
    {
     "data": {
      "text/html": [
       "<div>\n",
       "<style scoped>\n",
       "    .dataframe tbody tr th:only-of-type {\n",
       "        vertical-align: middle;\n",
       "    }\n",
       "\n",
       "    .dataframe tbody tr th {\n",
       "        vertical-align: top;\n",
       "    }\n",
       "\n",
       "    .dataframe thead th {\n",
       "        text-align: right;\n",
       "    }\n",
       "</style>\n",
       "<table border=\"1\" class=\"dataframe\">\n",
       "  <thead>\n",
       "    <tr style=\"text-align: right;\">\n",
       "      <th></th>\n",
       "      <th>count</th>\n",
       "      <th>mean</th>\n",
       "      <th>std</th>\n",
       "      <th>min</th>\n",
       "      <th>25%</th>\n",
       "      <th>50%</th>\n",
       "      <th>75%</th>\n",
       "      <th>max</th>\n",
       "    </tr>\n",
       "  </thead>\n",
       "  <tbody>\n",
       "    <tr>\n",
       "      <th>Pregnancies</th>\n",
       "      <td>768.0</td>\n",
       "      <td>3.845052</td>\n",
       "      <td>3.369578</td>\n",
       "      <td>0.000</td>\n",
       "      <td>1.00000</td>\n",
       "      <td>3.0000</td>\n",
       "      <td>6.00000</td>\n",
       "      <td>17.00</td>\n",
       "    </tr>\n",
       "    <tr>\n",
       "      <th>Glucose</th>\n",
       "      <td>768.0</td>\n",
       "      <td>120.894531</td>\n",
       "      <td>31.972618</td>\n",
       "      <td>0.000</td>\n",
       "      <td>99.00000</td>\n",
       "      <td>117.0000</td>\n",
       "      <td>140.25000</td>\n",
       "      <td>199.00</td>\n",
       "    </tr>\n",
       "    <tr>\n",
       "      <th>BloodPressure</th>\n",
       "      <td>768.0</td>\n",
       "      <td>69.105469</td>\n",
       "      <td>19.355807</td>\n",
       "      <td>0.000</td>\n",
       "      <td>62.00000</td>\n",
       "      <td>72.0000</td>\n",
       "      <td>80.00000</td>\n",
       "      <td>122.00</td>\n",
       "    </tr>\n",
       "    <tr>\n",
       "      <th>SkinThickness</th>\n",
       "      <td>768.0</td>\n",
       "      <td>20.536458</td>\n",
       "      <td>15.952218</td>\n",
       "      <td>0.000</td>\n",
       "      <td>0.00000</td>\n",
       "      <td>23.0000</td>\n",
       "      <td>32.00000</td>\n",
       "      <td>99.00</td>\n",
       "    </tr>\n",
       "    <tr>\n",
       "      <th>Insulin</th>\n",
       "      <td>768.0</td>\n",
       "      <td>79.799479</td>\n",
       "      <td>115.244002</td>\n",
       "      <td>0.000</td>\n",
       "      <td>0.00000</td>\n",
       "      <td>30.5000</td>\n",
       "      <td>127.25000</td>\n",
       "      <td>846.00</td>\n",
       "    </tr>\n",
       "    <tr>\n",
       "      <th>BMI</th>\n",
       "      <td>768.0</td>\n",
       "      <td>31.992578</td>\n",
       "      <td>7.884160</td>\n",
       "      <td>0.000</td>\n",
       "      <td>27.30000</td>\n",
       "      <td>32.0000</td>\n",
       "      <td>36.60000</td>\n",
       "      <td>67.10</td>\n",
       "    </tr>\n",
       "    <tr>\n",
       "      <th>DiabetesPedigreeFunction</th>\n",
       "      <td>768.0</td>\n",
       "      <td>0.471876</td>\n",
       "      <td>0.331329</td>\n",
       "      <td>0.078</td>\n",
       "      <td>0.24375</td>\n",
       "      <td>0.3725</td>\n",
       "      <td>0.62625</td>\n",
       "      <td>2.42</td>\n",
       "    </tr>\n",
       "    <tr>\n",
       "      <th>Age</th>\n",
       "      <td>768.0</td>\n",
       "      <td>33.240885</td>\n",
       "      <td>11.760232</td>\n",
       "      <td>21.000</td>\n",
       "      <td>24.00000</td>\n",
       "      <td>29.0000</td>\n",
       "      <td>41.00000</td>\n",
       "      <td>81.00</td>\n",
       "    </tr>\n",
       "    <tr>\n",
       "      <th>Outcome</th>\n",
       "      <td>768.0</td>\n",
       "      <td>0.348958</td>\n",
       "      <td>0.476951</td>\n",
       "      <td>0.000</td>\n",
       "      <td>0.00000</td>\n",
       "      <td>0.0000</td>\n",
       "      <td>1.00000</td>\n",
       "      <td>1.00</td>\n",
       "    </tr>\n",
       "  </tbody>\n",
       "</table>\n",
       "</div>"
      ],
      "text/plain": [
       "                          count        mean         std     min       25%  \\\n",
       "Pregnancies               768.0    3.845052    3.369578   0.000   1.00000   \n",
       "Glucose                   768.0  120.894531   31.972618   0.000  99.00000   \n",
       "BloodPressure             768.0   69.105469   19.355807   0.000  62.00000   \n",
       "SkinThickness             768.0   20.536458   15.952218   0.000   0.00000   \n",
       "Insulin                   768.0   79.799479  115.244002   0.000   0.00000   \n",
       "BMI                       768.0   31.992578    7.884160   0.000  27.30000   \n",
       "DiabetesPedigreeFunction  768.0    0.471876    0.331329   0.078   0.24375   \n",
       "Age                       768.0   33.240885   11.760232  21.000  24.00000   \n",
       "Outcome                   768.0    0.348958    0.476951   0.000   0.00000   \n",
       "\n",
       "                               50%        75%     max  \n",
       "Pregnancies                 3.0000    6.00000   17.00  \n",
       "Glucose                   117.0000  140.25000  199.00  \n",
       "BloodPressure              72.0000   80.00000  122.00  \n",
       "SkinThickness              23.0000   32.00000   99.00  \n",
       "Insulin                    30.5000  127.25000  846.00  \n",
       "BMI                        32.0000   36.60000   67.10  \n",
       "DiabetesPedigreeFunction    0.3725    0.62625    2.42  \n",
       "Age                        29.0000   41.00000   81.00  \n",
       "Outcome                     0.0000    1.00000    1.00  "
      ]
     },
     "execution_count": 3,
     "metadata": {},
     "output_type": "execute_result"
    }
   ],
   "source": [
    "print(df.shape)\n",
    "df.describe().transpose()"
   ]
  },
  {
   "cell_type": "code",
   "execution_count": 4,
   "id": "f56787e2",
   "metadata": {},
   "outputs": [
    {
     "data": {
      "text/plain": [
       "0    500\n",
       "1    268\n",
       "Name: Outcome, dtype: int64"
      ]
     },
     "execution_count": 4,
     "metadata": {},
     "output_type": "execute_result"
    }
   ],
   "source": [
    "df.Outcome.value_counts()"
   ]
  },
  {
   "cell_type": "code",
   "execution_count": 5,
   "id": "671c6ff1",
   "metadata": {},
   "outputs": [
    {
     "name": "stdout",
     "output_type": "stream",
     "text": [
      "0      1\n",
      "1      0\n",
      "2      1\n",
      "3      0\n",
      "4      1\n",
      "      ..\n",
      "763    0\n",
      "764    0\n",
      "765    0\n",
      "766    1\n",
      "767    0\n",
      "Name: Outcome, Length: 768, dtype: int64\n",
      "     Pregnancies  Glucose  BloodPressure  SkinThickness  Insulin   BMI  \\\n",
      "0              6      148             72             35        0  33.6   \n",
      "1              1       85             66             29        0  26.6   \n",
      "2              8      183             64              0        0  23.3   \n",
      "3              1       89             66             23       94  28.1   \n",
      "4              0      137             40             35      168  43.1   \n",
      "..           ...      ...            ...            ...      ...   ...   \n",
      "763           10      101             76             48      180  32.9   \n",
      "764            2      122             70             27        0  36.8   \n",
      "765            5      121             72             23      112  26.2   \n",
      "766            1      126             60              0        0  30.1   \n",
      "767            1       93             70             31        0  30.4   \n",
      "\n",
      "     DiabetesPedigreeFunction  Age  \n",
      "0                       0.627   50  \n",
      "1                       0.351   31  \n",
      "2                       0.672   32  \n",
      "3                       0.167   21  \n",
      "4                       2.288   33  \n",
      "..                        ...  ...  \n",
      "763                     0.171   63  \n",
      "764                     0.340   27  \n",
      "765                     0.245   30  \n",
      "766                     0.349   47  \n",
      "767                     0.315   23  \n",
      "\n",
      "[768 rows x 8 columns]\n"
     ]
    }
   ],
   "source": [
    "y=df['Outcome']\n",
    "print(y)\n",
    "df=df.drop(['Outcome'],axis=1)\n",
    "x= df\n",
    "print(x)"
   ]
  },
  {
   "cell_type": "code",
   "execution_count": 7,
   "id": "9321c347",
   "metadata": {},
   "outputs": [
    {
     "name": "stdout",
     "output_type": "stream",
     "text": [
      "(537, 8)\n",
      "(231, 8)\n"
     ]
    }
   ],
   "source": [
    "#splitting\n",
    "from sklearn.model_selection import train_test_split\n",
    "x_train,x_test,y_train,y_test=train_test_split(x,y, test_size=0.3, random_state=42)\n",
    "print(x_train.shape)\n",
    "print(x_test.shape)"
   ]
  },
  {
   "cell_type": "code",
   "execution_count": 8,
   "id": "55fc09ba",
   "metadata": {},
   "outputs": [
    {
     "name": "stdout",
     "output_type": "stream",
     "text": [
      "[[0.05882353 0.47738693 0.49180328 ... 0.3561848  0.07771136 0.01666667]\n",
      " [0.29411765 0.52763819 0.59016393 ... 0.54992548 0.03458582 0.11666667]\n",
      " [0.         0.67839196 0.55737705 ... 0.63040238 0.12254483 0.05      ]\n",
      " ...\n",
      " [0.58823529 0.50753769 0.70491803 ... 0.67958271 0.45175064 0.28333333]\n",
      " [0.         0.70854271 0.         ... 0.6318927  0.05422716 0.13333333]\n",
      " [0.         0.6281407  0.78688525 ... 0.33532042 0.07856533 0.        ]]\n"
     ]
    }
   ],
   "source": [
    "from sklearn.preprocessing import MinMaxScaler\n",
    "st_x=MinMaxScaler()\n",
    "x_train=st_x.fit_transform(x_train)\n",
    "x_test=st_x.transform(x_test)\n",
    "print(x_train)"
   ]
  },
  {
   "cell_type": "code",
   "execution_count": 14,
   "id": "c90f0cec",
   "metadata": {},
   "outputs": [],
   "source": [
    "#classifier\n",
    "classifier=MLPClassifier(hidden_layer_sizes=(8,8,8), activation='relu', solver='adam', n_iter_no_change=10, random_state=1, max_iter=1000)\n",
    "classifier.fit(x_train,y_train)\n",
    "x_pred=classifier.predict(x_train)\n",
    "y_pred=classifier.predict(x_test)"
   ]
  },
  {
   "cell_type": "code",
   "execution_count": 15,
   "id": "cf5836f1",
   "metadata": {},
   "outputs": [
    {
     "name": "stdout",
     "output_type": "stream",
     "text": [
      "[0 0 0 0 0 0 0 0 0 0 1 0 1 0 0 1 0 0 1 1 0 0 0 0 0 1 0 0 1 0 1 1 1 1 0 1 1\n",
      " 1 0 1 0 0 0 1 0 1 1 0 0 0 0 1 1 1 0 0 0 0 0 1 1 0 0 1 0 0 0 1 0 1 0 0 0 1\n",
      " 0 0 0 0 0 0 1 1 0 0 0 1 1 1 0 0 0 0 0 1 0 0 0 0 1 0 0 0 1 0 1 0 0 1 1 1 0\n",
      " 0 0 1 0 0 1 0 0 0 0 0 1 0 0 0 1 1 1 0 1 1 0 1 1 0 1 1 1 0 0 0 0 0 0 0 1 0\n",
      " 0 1 0 0 1 0 0 1 0 0 1 0 1 1 0 0 0 1 0 0 0 1 0 1 1 0 0 0 0 0 1 1 0 0 0 1 1\n",
      " 0 0 0 1 0 1 0 1 0 0 0 0 0 1 1 0 0 1 0 0 0 0 0 1 1 0 0 0 0 1 0 0 1 0 0 1 0\n",
      " 0 0 0 0 1 1 0 0 0]\n",
      "[0 0 0 0 1 1 0 1 1 1 0 1 0 0 0 0 0 0 1 1 0 0 0 0 1 1 0 0 0 0 1 1 1 1 1 1 1\n",
      " 0 0 1 0 1 0 0 0 1 1 0 0 1 0 1 1 0 0 0 1 0 0 1 1 0 0 0 0 1 0 1 0 1 1 0 0 0\n",
      " 0 0 0 0 0 0 1 0 0 0 0 1 1 0 0 0 0 0 0 1 1 1 0 0 1 0 1 0 1 1 1 0 0 1 0 1 0\n",
      " 0 0 1 0 0 1 0 0 1 0 0 0 0 0 0 0 1 1 1 1 1 0 1 1 0 0 1 1 0 0 0 0 0 0 0 0 0\n",
      " 0 1 0 0 0 0 0 0 0 1 1 0 1 1 0 0 0 1 0 0 1 1 1 0 0 1 1 0 0 0 0 0 0 1 0 1 1\n",
      " 0 0 0 1 0 0 0 1 0 0 0 0 0 0 1 0 0 0 0 1 0 0 0 1 1 0 0 0 0 1 0 1 0 0 1 1 0\n",
      " 0 0 0 1 0 0 0 0 0]\n"
     ]
    }
   ],
   "source": [
    "print(y_test.values)\n",
    "print(y_pred)"
   ]
  },
  {
   "cell_type": "code",
   "execution_count": 16,
   "id": "da1031a5",
   "metadata": {},
   "outputs": [
    {
     "name": "stdout",
     "output_type": "stream",
     "text": [
      "[[122  29]\n",
      " [ 28  52]]\n"
     ]
    }
   ],
   "source": [
    "from sklearn.metrics import confusion_matrix\n",
    "cm=confusion_matrix(y_test,y_pred)\n",
    "print(cm)"
   ]
  },
  {
   "cell_type": "code",
   "execution_count": 17,
   "id": "5f45ac4e",
   "metadata": {},
   "outputs": [
    {
     "name": "stdout",
     "output_type": "stream",
     "text": [
      "[[304  45]\n",
      " [ 62 126]]\n"
     ]
    }
   ],
   "source": [
    "from sklearn.metrics import confusion_matrix\n",
    "cm1=confusion_matrix(y_train, x_pred)\n",
    "print(cm1)"
   ]
  },
  {
   "cell_type": "code",
   "execution_count": 19,
   "id": "771ab7dc",
   "metadata": {},
   "outputs": [
    {
     "data": {
      "text/plain": [
       "<sklearn.metrics._plot.confusion_matrix.ConfusionMatrixDisplay at 0x1af1bacf4c0>"
      ]
     },
     "execution_count": 19,
     "metadata": {},
     "output_type": "execute_result"
    },
    {
     "data": {
      "image/png": "[encoded data removed]",
      "text/plain": [
       "<Figure size 432x288 with 2 Axes>"
      ]
     },
     "metadata": {
      "needs_background": "light"
     },
     "output_type": "display_data"
    }
   ],
   "source": [
    "from sklearn.metrics import ConfusionMatrixDisplay\n",
    "disp=ConfusionMatrixDisplay(confusion_matrix=cm,display_labels=classifier.classes_)\n",
    "disp.plot()"
   ]
  },
  {
   "cell_type": "code",
   "execution_count": 23,
   "id": "e6db9208",
   "metadata": {},
   "outputs": [
    {
     "name": "stdout",
     "output_type": "stream",
     "text": [
      "Accuracy score: 0.7532467532467533\n",
      "precision score: 0.8133333333333334\n",
      "Recall score: 0.8079470198675497\n",
      "f1 score:0.8106312292358804\n"
     ]
    }
   ],
   "source": [
    "from sklearn.metrics import accuracy_score, precision_score, recall_score, f1_score\n",
    "print('Accuracy score: {}'.format(accuracy_score(y_test,y_pred)))\n",
    "print('precision score: {}'.format(precision_score(y_test, y_pred, pos_label=0)))\n",
    "print('Recall score: {}'.format(recall_score(y_test, y_pred, pos_label=0)))\n",
    "print('f1 score:{}'.format(f1_score(y_test, y_pred, pos_label=0)))"
   ]
  },
  {
   "cell_type": "code",
   "execution_count": 24,
   "id": "c44959b6",
   "metadata": {},
   "outputs": [
    {
     "data": {
      "text/plain": [
       "[array([[-1.89502926e-01,  9.76303164e-02, -2.45684905e-01,\n",
       "         -2.53121353e-01, -2.33721826e-01, -6.44463821e-01,\n",
       "         -5.88512485e-02, -1.39144621e-05],\n",
       "        [ 3.15054694e-01,  3.70911428e-01, -1.63740148e-01,\n",
       "          5.90127022e-01, -5.25843009e-01,  4.78340608e-01,\n",
       "         -7.40682592e-01,  4.13167574e-05],\n",
       "        [ 6.05731382e-02,  9.48206045e-02, -1.61982618e-01,\n",
       "         -2.67411316e-01,  3.92571711e-01,  4.62901807e-01,\n",
       "         -9.76217627e-02,  1.39797734e-04],\n",
       "        [ 4.15465019e-01,  3.09120496e-01, -3.57917149e-02,\n",
       "         -5.92152338e-01,  1.27766333e-02,  5.89223689e-01,\n",
       "         -1.71906295e-01, -7.61337355e-10],\n",
       "        [ 4.90823309e-01, -3.64776945e-03,  3.19835470e-01,\n",
       "         -1.32434802e-01,  4.32378854e-01,  3.87078723e-01,\n",
       "         -2.18124799e-01,  1.34165793e-03],\n",
       "        [ 9.31668352e-01,  6.81636385e-01, -3.28673296e-01,\n",
       "          6.81314393e-01, -4.74650714e-01, -6.63893418e-02,\n",
       "          3.91323637e-01, -2.70141578e-04],\n",
       "        [-1.25864335e-01, -4.22879695e-01, -1.70947978e-01,\n",
       "          3.62602833e-01, -1.85574137e-01, -5.81962463e-01,\n",
       "         -8.44569867e-02, -4.01018655e-02],\n",
       "        [ 4.01262249e-02, -5.58586874e-01, -4.03210757e-01,\n",
       "          2.57156156e-01, -1.05355421e+00, -5.07708629e-01,\n",
       "          3.26410002e-01, -3.37196790e-09]]),\n",
       " array([[ 2.20668194e-02,  8.05119897e-01, -2.21813104e-01,\n",
       "         -7.37204727e-01,  9.07269408e-02, -5.62699452e-01,\n",
       "          1.36921954e-03,  5.95656427e-04],\n",
       "        [ 6.27156857e-01,  5.18684569e-01,  2.41000706e-01,\n",
       "         -2.93868773e-01, -3.21769512e-01,  4.80072976e-01,\n",
       "         -1.32276361e-10,  4.75414945e-02],\n",
       "        [-4.64122661e-01,  1.42972865e-01, -2.00695464e-02,\n",
       "          1.36397835e+00,  7.06218748e-01,  8.89571159e-01,\n",
       "         -1.05558686e-08, -1.94872594e-03],\n",
       "        [ 8.94134640e-01,  3.97609638e-01, -7.49256726e-01,\n",
       "         -1.82568610e-01, -5.82039671e-01, -3.89189771e-01,\n",
       "          2.02510209e-02, -5.49256573e-06],\n",
       "        [ 4.06491647e-03,  3.91113641e-02, -4.91699157e-01,\n",
       "          9.82653774e-01,  6.90643941e-01,  1.06708196e+00,\n",
       "         -8.28761482e-03, -1.47107221e-02],\n",
       "        [ 6.46175595e-01,  5.62839930e-01, -5.70153079e-01,\n",
       "          2.79031534e-01,  3.05618906e-01,  4.89371734e-01,\n",
       "          3.36761118e-04, -1.76649541e-02],\n",
       "        [-9.51780483e-01, -6.93025161e-01, -5.22436818e-01,\n",
       "         -2.04375542e-02,  6.31125286e-01,  4.26823288e-01,\n",
       "          7.62879990e-14,  1.06245350e-02],\n",
       "        [-1.76886642e-02, -4.89583466e-04,  3.33075227e-09,\n",
       "          4.95954503e-02,  4.03879238e-12, -5.48659818e-02,\n",
       "          4.87510007e-03, -2.17690725e-03]]),\n",
       " array([[-5.27498051e-01, -3.51264756e-01, -2.63391018e-03,\n",
       "         -9.65924172e-03,  2.40705455e-12, -5.77032925e-02,\n",
       "         -3.31980164e-02,  9.16367470e-01],\n",
       "        [ 9.44879001e-02, -1.30377499e-01, -1.24331093e-03,\n",
       "         -1.09586535e-01, -5.29741791e-03,  1.32571387e-09,\n",
       "          4.97808720e-02,  8.90093719e-01],\n",
       "        [-3.02650686e-01,  5.69779527e-02,  5.81125242e-07,\n",
       "          3.30663773e-01, -1.08331185e-02, -5.48986770e-02,\n",
       "         -3.38884162e-02,  6.09355374e-02],\n",
       "        [ 5.51634525e-01, -6.66908601e-02, -8.41563420e-05,\n",
       "          9.35910309e-01,  9.25372173e-10, -5.74716106e-07,\n",
       "          1.74805403e-14, -2.24755787e-02],\n",
       "        [ 6.05744125e-01, -3.63446502e-01, -3.52141165e-02,\n",
       "          1.78627830e-01,  1.65242087e-06, -3.83735787e-03,\n",
       "          1.45184396e-03, -9.64610703e-01],\n",
       "        [ 2.29186485e-01,  2.18314044e-01, -5.52074665e-03,\n",
       "          5.90571577e-01,  1.85621438e-19,  3.20773504e-02,\n",
       "         -8.70520397e-04, -9.78983023e-01],\n",
       "        [ 8.23187147e-04,  2.49445527e-03,  2.65182856e-02,\n",
       "          3.46018870e-02, -5.70468632e-02, -2.09667861e-03,\n",
       "          4.00713006e-07,  4.10357970e-02],\n",
       "        [ 4.14953326e-02,  6.30464653e-13,  2.89919871e-02,\n",
       "          4.97145744e-06, -1.70643683e-07,  3.38565870e-21,\n",
       "          7.78076237e-08,  2.12385685e-15]]),\n",
       " array([[-1.26874442e+00],\n",
       "        [ 5.83769064e-01],\n",
       "        [ 3.61248769e-02],\n",
       "        [-8.86782436e-01],\n",
       "        [-3.45178326e-02],\n",
       "        [-5.51072148e-04],\n",
       "        [-5.98744341e-02],\n",
       "        [ 9.96712382e-01]])]"
      ]
     },
     "execution_count": 24,
     "metadata": {},
     "output_type": "execute_result"
    }
   ],
   "source": [
    "classifier.coefs_"
   ]
  },
  {
   "cell_type": "code",
   "execution_count": 25,
   "id": "0088d3bf",
   "metadata": {},
   "outputs": [
    {
     "data": {
      "text/plain": [
       "[array([-0.45697459,  0.06689107,  0.49746418, -0.04808224,  0.79238979,\n",
       "         0.31580047,  0.69464481, -0.444001  ]),\n",
       " array([ 0.2961729 ,  0.04497823,  0.38753395,  0.40534861,  0.15610589,\n",
       "        -0.33670211, -0.53898855, -0.46375766]),\n",
       " array([ 0.67271201,  0.60719075, -0.12875055,  0.42783594, -0.39932113,\n",
       "        -0.457651  , -0.44693493,  0.15910877]),\n",
       " array([-0.11509445])]"
      ]
     },
     "execution_count": 25,
     "metadata": {},
     "output_type": "execute_result"
    }
   ],
   "source": [
    "classifier.intercepts_"
   ]
  },
  {
   "cell_type": "code",
   "execution_count": null,
   "id": "8bc9dd4a",
   "metadata": {},
   "outputs": [],
   "source": []
  }
 ],
 "metadata": {
  "kernelspec": {
   "display_name": "Python 3 (ipykernel)",
   "language": "python",
   "name": "python3"
  },
  "language_info": {
   "codemirror_mode": {
    "name": "ipython",
    "version": 3
   },
   "file_extension": ".py",
   "mimetype": "text/x-python",
   "name": "python",
   "nbconvert_exporter": "python",
   "pygments_lexer": "ipython3",
   "version": "3.9.7"
  }
 },
 "nbformat": 4,
 "nbformat_minor": 5
}
