{
 "cells": [
  {
   "cell_type": "code",
   "execution_count": 183,
   "id": "096d090f",
   "metadata": {},
   "outputs": [],
   "source": [
    "import numpy as np\n",
    "import pandas as pd"
   ]
  },
  {
   "cell_type": "code",
   "execution_count": 184,
   "id": "07c916c5",
   "metadata": {},
   "outputs": [
    {
     "name": "stdout",
     "output_type": "stream",
     "text": [
      "      customerID  gender  SeniorCitizen Partner Dependents  tenure  \\\n",
      "0     7590-VHVEG  Female              0     Yes         No       1   \n",
      "1     5575-GNVDE    Male              0      No         No      34   \n",
      "2     3668-QPYBK    Male              0      No         No       2   \n",
      "3     7795-CFOCW    Male              0      No         No      45   \n",
      "4     9237-HQITU  Female              0      No         No       2   \n",
      "...          ...     ...            ...     ...        ...     ...   \n",
      "7038  6840-RESVB    Male              0     Yes        Yes      24   \n",
      "7039  2234-XADUH  Female              0     Yes        Yes      72   \n",
      "7040  4801-JZAZL  Female              0     Yes        Yes      11   \n",
      "7041  8361-LTMKD    Male              1     Yes         No       4   \n",
      "7042  3186-AJIEK    Male              0      No         No      66   \n",
      "\n",
      "     PhoneService     MultipleLines InternetService OnlineSecurity  ...  \\\n",
      "0              No  No phone service             DSL             No  ...   \n",
      "1             Yes                No             DSL            Yes  ...   \n",
      "2             Yes                No             DSL            Yes  ...   \n",
      "3              No  No phone service             DSL            Yes  ...   \n",
      "4             Yes                No     Fiber optic             No  ...   \n",
      "...           ...               ...             ...            ...  ...   \n",
      "7038          Yes               Yes             DSL            Yes  ...   \n",
      "7039          Yes               Yes     Fiber optic             No  ...   \n",
      "7040           No  No phone service             DSL            Yes  ...   \n",
      "7041          Yes               Yes     Fiber optic             No  ...   \n",
      "7042          Yes                No     Fiber optic            Yes  ...   \n",
      "\n",
      "     DeviceProtection TechSupport StreamingTV StreamingMovies        Contract  \\\n",
      "0                  No          No          No              No  Month-to-month   \n",
      "1                 Yes          No          No              No        One year   \n",
      "2                  No          No          No              No  Month-to-month   \n",
      "3                 Yes         Yes          No              No        One year   \n",
      "4                  No          No          No              No  Month-to-month   \n",
      "...               ...         ...         ...             ...             ...   \n",
      "7038              Yes         Yes         Yes             Yes        One year   \n",
      "7039              Yes          No         Yes             Yes        One year   \n",
      "7040               No          No          No              No  Month-to-month   \n",
      "7041               No          No          No              No  Month-to-month   \n",
      "7042              Yes         Yes         Yes             Yes        Two year   \n",
      "\n",
      "     PaperlessBilling              PaymentMethod MonthlyCharges  TotalCharges  \\\n",
      "0                 Yes           Electronic check          29.85         29.85   \n",
      "1                  No               Mailed check          56.95        1889.5   \n",
      "2                 Yes               Mailed check          53.85        108.15   \n",
      "3                  No  Bank transfer (automatic)          42.30       1840.75   \n",
      "4                 Yes           Electronic check          70.70        151.65   \n",
      "...               ...                        ...            ...           ...   \n",
      "7038              Yes               Mailed check          84.80        1990.5   \n",
      "7039              Yes    Credit card (automatic)         103.20        7362.9   \n",
      "7040              Yes           Electronic check          29.60        346.45   \n",
      "7041              Yes               Mailed check          74.40         306.6   \n",
      "7042              Yes  Bank transfer (automatic)         105.65        6844.5   \n",
      "\n",
      "     Churn  \n",
      "0       No  \n",
      "1       No  \n",
      "2      Yes  \n",
      "3       No  \n",
      "4      Yes  \n",
      "...    ...  \n",
      "7038    No  \n",
      "7039    No  \n",
      "7040    No  \n",
      "7041   Yes  \n",
      "7042    No  \n",
      "\n",
      "[7043 rows x 21 columns]\n"
     ]
    }
   ],
   "source": [
    "df=pd.read_csv('Telco-Customer-Churn.csv')\n",
    "print(df)"
   ]
  },
  {
   "cell_type": "code",
   "execution_count": 185,
   "id": "34d066c7",
   "metadata": {},
   "outputs": [
    {
     "data": {
      "text/html": [
       "<div>\n",
       "<style scoped>\n",
       "    .dataframe tbody tr th:only-of-type {\n",
       "        vertical-align: middle;\n",
       "    }\n",
       "\n",
       "    .dataframe tbody tr th {\n",
       "        vertical-align: top;\n",
       "    }\n",
       "\n",
       "    .dataframe thead th {\n",
       "        text-align: right;\n",
       "    }\n",
       "</style>\n",
       "<table border=\"1\" class=\"dataframe\">\n",
       "  <thead>\n",
       "    <tr style=\"text-align: right;\">\n",
       "      <th></th>\n",
       "      <th>SeniorCitizen</th>\n",
       "      <th>tenure</th>\n",
       "      <th>MonthlyCharges</th>\n",
       "    </tr>\n",
       "  </thead>\n",
       "  <tbody>\n",
       "    <tr>\n",
       "      <th>count</th>\n",
       "      <td>7043.000000</td>\n",
       "      <td>7043.000000</td>\n",
       "      <td>7043.000000</td>\n",
       "    </tr>\n",
       "    <tr>\n",
       "      <th>mean</th>\n",
       "      <td>0.162147</td>\n",
       "      <td>32.371149</td>\n",
       "      <td>64.761692</td>\n",
       "    </tr>\n",
       "    <tr>\n",
       "      <th>std</th>\n",
       "      <td>0.368612</td>\n",
       "      <td>24.559481</td>\n",
       "      <td>30.090047</td>\n",
       "    </tr>\n",
       "    <tr>\n",
       "      <th>min</th>\n",
       "      <td>0.000000</td>\n",
       "      <td>0.000000</td>\n",
       "      <td>18.250000</td>\n",
       "    </tr>\n",
       "    <tr>\n",
       "      <th>25%</th>\n",
       "      <td>0.000000</td>\n",
       "      <td>9.000000</td>\n",
       "      <td>35.500000</td>\n",
       "    </tr>\n",
       "    <tr>\n",
       "      <th>50%</th>\n",
       "      <td>0.000000</td>\n",
       "      <td>29.000000</td>\n",
       "      <td>70.350000</td>\n",
       "    </tr>\n",
       "    <tr>\n",
       "      <th>75%</th>\n",
       "      <td>0.000000</td>\n",
       "      <td>55.000000</td>\n",
       "      <td>89.850000</td>\n",
       "    </tr>\n",
       "    <tr>\n",
       "      <th>max</th>\n",
       "      <td>1.000000</td>\n",
       "      <td>72.000000</td>\n",
       "      <td>118.750000</td>\n",
       "    </tr>\n",
       "  </tbody>\n",
       "</table>\n",
       "</div>"
      ],
      "text/plain": [
       "       SeniorCitizen       tenure  MonthlyCharges\n",
       "count    7043.000000  7043.000000     7043.000000\n",
       "mean        0.162147    32.371149       64.761692\n",
       "std         0.368612    24.559481       30.090047\n",
       "min         0.000000     0.000000       18.250000\n",
       "25%         0.000000     9.000000       35.500000\n",
       "50%         0.000000    29.000000       70.350000\n",
       "75%         0.000000    55.000000       89.850000\n",
       "max         1.000000    72.000000      118.750000"
      ]
     },
     "execution_count": 185,
     "metadata": {},
     "output_type": "execute_result"
    }
   ],
   "source": [
    "df.describe()"
   ]
  },
  {
   "cell_type": "code",
   "execution_count": 186,
   "id": "e4c58e57",
   "metadata": {},
   "outputs": [
    {
     "name": "stdout",
     "output_type": "stream",
     "text": [
      "Index(['customerID', 'gender', 'SeniorCitizen', 'Partner', 'Dependents',\n",
      "       'tenure', 'PhoneService', 'MultipleLines', 'InternetService',\n",
      "       'OnlineSecurity', 'OnlineBackup', 'DeviceProtection', 'TechSupport',\n",
      "       'StreamingTV', 'StreamingMovies', 'Contract', 'PaperlessBilling',\n",
      "       'PaymentMethod', 'MonthlyCharges', 'TotalCharges', 'Churn'],\n",
      "      dtype='object')\n"
     ]
    },
    {
     "data": {
      "text/plain": [
       "Churn\n",
       "No     5174\n",
       "Yes    1869\n",
       "dtype: int64"
      ]
     },
     "execution_count": 186,
     "metadata": {},
     "output_type": "execute_result"
    }
   ],
   "source": [
    "df.shape\n",
    "cols=df.columns\n",
    "print(cols)\n",
    "df.value_counts('Churn')"
   ]
  },
  {
   "cell_type": "code",
   "execution_count": 187,
   "id": "16a4d1f2",
   "metadata": {},
   "outputs": [],
   "source": [
    "#convert totalcharges to numeric and drop null values\n",
    "df[\"TotalCharges\"]=pd.to_numeric(df[\"TotalCharges\"],errors='coerce')\n",
    "df=df.dropna()"
   ]
  },
  {
   "cell_type": "code",
   "execution_count": 188,
   "id": "b753fa31",
   "metadata": {},
   "outputs": [
    {
     "name": "stdout",
     "output_type": "stream",
     "text": [
      "Index(['gender', 'SeniorCitizen', 'Partner', 'Dependents', 'tenure',\n",
      "       'PhoneService', 'MultipleLines', 'InternetService', 'OnlineSecurity',\n",
      "       'OnlineBackup', 'DeviceProtection', 'TechSupport', 'StreamingTV',\n",
      "       'StreamingMovies', 'Contract', 'PaperlessBilling', 'PaymentMethod',\n",
      "       'MonthlyCharges', 'TotalCharges'],\n",
      "      dtype='object')\n",
      "      gender  SeniorCitizen Partner Dependents  tenure PhoneService  \\\n",
      "0     Female              0     Yes         No       1           No   \n",
      "1       Male              0      No         No      34          Yes   \n",
      "2       Male              0      No         No       2          Yes   \n",
      "3       Male              0      No         No      45           No   \n",
      "4     Female              0      No         No       2          Yes   \n",
      "...      ...            ...     ...        ...     ...          ...   \n",
      "7038    Male              0     Yes        Yes      24          Yes   \n",
      "7039  Female              0     Yes        Yes      72          Yes   \n",
      "7040  Female              0     Yes        Yes      11           No   \n",
      "7041    Male              1     Yes         No       4          Yes   \n",
      "7042    Male              0      No         No      66          Yes   \n",
      "\n",
      "         MultipleLines InternetService OnlineSecurity OnlineBackup  \\\n",
      "0     No phone service             DSL             No          Yes   \n",
      "1                   No             DSL            Yes           No   \n",
      "2                   No             DSL            Yes          Yes   \n",
      "3     No phone service             DSL            Yes           No   \n",
      "4                   No     Fiber optic             No           No   \n",
      "...                ...             ...            ...          ...   \n",
      "7038               Yes             DSL            Yes           No   \n",
      "7039               Yes     Fiber optic             No          Yes   \n",
      "7040  No phone service             DSL            Yes           No   \n",
      "7041               Yes     Fiber optic             No           No   \n",
      "7042                No     Fiber optic            Yes           No   \n",
      "\n",
      "     DeviceProtection TechSupport StreamingTV StreamingMovies        Contract  \\\n",
      "0                  No          No          No              No  Month-to-month   \n",
      "1                 Yes          No          No              No        One year   \n",
      "2                  No          No          No              No  Month-to-month   \n",
      "3                 Yes         Yes          No              No        One year   \n",
      "4                  No          No          No              No  Month-to-month   \n",
      "...               ...         ...         ...             ...             ...   \n",
      "7038              Yes         Yes         Yes             Yes        One year   \n",
      "7039              Yes          No         Yes             Yes        One year   \n",
      "7040               No          No          No              No  Month-to-month   \n",
      "7041               No          No          No              No  Month-to-month   \n",
      "7042              Yes         Yes         Yes             Yes        Two year   \n",
      "\n",
      "     PaperlessBilling              PaymentMethod  MonthlyCharges  TotalCharges  \n",
      "0                 Yes           Electronic check           29.85         29.85  \n",
      "1                  No               Mailed check           56.95       1889.50  \n",
      "2                 Yes               Mailed check           53.85        108.15  \n",
      "3                  No  Bank transfer (automatic)           42.30       1840.75  \n",
      "4                 Yes           Electronic check           70.70        151.65  \n",
      "...               ...                        ...             ...           ...  \n",
      "7038              Yes               Mailed check           84.80       1990.50  \n",
      "7039              Yes    Credit card (automatic)          103.20       7362.90  \n",
      "7040              Yes           Electronic check           29.60        346.45  \n",
      "7041              Yes               Mailed check           74.40        306.60  \n",
      "7042              Yes  Bank transfer (automatic)          105.65       6844.50  \n",
      "\n",
      "[7032 rows x 19 columns]\n"
     ]
    }
   ],
   "source": [
    "#datapreprocessing\n",
    "#drop customer id\n",
    "y=df['Churn']\n",
    "df.drop('Churn',axis=1,inplace=True)\n",
    "df.drop('customerID', axis = 1,inplace=True)\n",
    "cols=df.columns\n",
    "print(cols)\n",
    "x=df\n",
    "print(x)"
   ]
  },
  {
   "cell_type": "code",
   "execution_count": 189,
   "id": "1afa4a86",
   "metadata": {},
   "outputs": [
    {
     "name": "stdout",
     "output_type": "stream",
     "text": [
      "0        No\n",
      "1        No\n",
      "2       Yes\n",
      "3        No\n",
      "4       Yes\n",
      "       ... \n",
      "7038     No\n",
      "7039     No\n",
      "7040     No\n",
      "7041    Yes\n",
      "7042     No\n",
      "Name: Churn, Length: 7032, dtype: object\n"
     ]
    }
   ],
   "source": [
    "print(y)"
   ]
  },
  {
   "cell_type": "code",
   "execution_count": 190,
   "id": "47d0b928",
   "metadata": {},
   "outputs": [
    {
     "name": "stdout",
     "output_type": "stream",
     "text": [
      "[0 0 1 ... 0 1 0]\n"
     ]
    }
   ],
   "source": [
    "from sklearn.preprocessing import LabelEncoder\n",
    "label_encoder_y=LabelEncoder()\n",
    "y=label_encoder_y.fit_transform(y)\n",
    "print(y)"
   ]
  },
  {
   "cell_type": "code",
   "execution_count": 191,
   "id": "bea0d76d",
   "metadata": {},
   "outputs": [
    {
     "name": "stdout",
     "output_type": "stream",
     "text": [
      "      gender  SeniorCitizen Partner Dependents  tenure PhoneService  \\\n",
      "0          0              0     Yes         No       1           No   \n",
      "1          1              0      No         No      34          Yes   \n",
      "2          1              0      No         No       2          Yes   \n",
      "3          1              0      No         No      45           No   \n",
      "4          0              0      No         No       2          Yes   \n",
      "...      ...            ...     ...        ...     ...          ...   \n",
      "7038       1              0     Yes        Yes      24          Yes   \n",
      "7039       0              0     Yes        Yes      72          Yes   \n",
      "7040       0              0     Yes        Yes      11           No   \n",
      "7041       1              1     Yes         No       4          Yes   \n",
      "7042       1              0      No         No      66          Yes   \n",
      "\n",
      "         MultipleLines InternetService OnlineSecurity OnlineBackup  \\\n",
      "0     No phone service             DSL             No          Yes   \n",
      "1                   No             DSL            Yes           No   \n",
      "2                   No             DSL            Yes          Yes   \n",
      "3     No phone service             DSL            Yes           No   \n",
      "4                   No     Fiber optic             No           No   \n",
      "...                ...             ...            ...          ...   \n",
      "7038               Yes             DSL            Yes           No   \n",
      "7039               Yes     Fiber optic             No          Yes   \n",
      "7040  No phone service             DSL            Yes           No   \n",
      "7041               Yes     Fiber optic             No           No   \n",
      "7042                No     Fiber optic            Yes           No   \n",
      "\n",
      "     DeviceProtection TechSupport StreamingTV StreamingMovies        Contract  \\\n",
      "0                  No          No          No              No  Month-to-month   \n",
      "1                 Yes          No          No              No        One year   \n",
      "2                  No          No          No              No  Month-to-month   \n",
      "3                 Yes         Yes          No              No        One year   \n",
      "4                  No          No          No              No  Month-to-month   \n",
      "...               ...         ...         ...             ...             ...   \n",
      "7038              Yes         Yes         Yes             Yes        One year   \n",
      "7039              Yes          No         Yes             Yes        One year   \n",
      "7040               No          No          No              No  Month-to-month   \n",
      "7041               No          No          No              No  Month-to-month   \n",
      "7042              Yes         Yes         Yes             Yes        Two year   \n",
      "\n",
      "     PaperlessBilling              PaymentMethod  MonthlyCharges  TotalCharges  \n",
      "0                 Yes           Electronic check           29.85         29.85  \n",
      "1                  No               Mailed check           56.95       1889.50  \n",
      "2                 Yes               Mailed check           53.85        108.15  \n",
      "3                  No  Bank transfer (automatic)           42.30       1840.75  \n",
      "4                 Yes           Electronic check           70.70        151.65  \n",
      "...               ...                        ...             ...           ...  \n",
      "7038              Yes               Mailed check           84.80       1990.50  \n",
      "7039              Yes    Credit card (automatic)          103.20       7362.90  \n",
      "7040              Yes           Electronic check           29.60        346.45  \n",
      "7041              Yes               Mailed check           74.40        306.60  \n",
      "7042              Yes  Bank transfer (automatic)          105.65       6844.50  \n",
      "\n",
      "[7032 rows x 19 columns]\n"
     ]
    }
   ],
   "source": [
    "#encoding data\n",
    "#x = df.iloc[:, :-1].values\n",
    "from sklearn.preprocessing import LabelEncoder\n",
    "label_encoder_x=LabelEncoder()\n",
    "x.iloc[:,0]=label_encoder_x.fit_transform(x.iloc[:,0])\n",
    "print(x)"
   ]
  },
  {
   "cell_type": "code",
   "execution_count": 192,
   "id": "5f5e7183",
   "metadata": {},
   "outputs": [
    {
     "name": "stdout",
     "output_type": "stream",
     "text": [
      "      gender  SeniorCitizen  Partner  Dependents  tenure  PhoneService  \\\n",
      "0          0              0        1           0       1             0   \n",
      "1          1              0        0           0      34             1   \n",
      "2          1              0        0           0       2             1   \n",
      "3          1              0        0           0      45             0   \n",
      "4          0              0        0           0       2             1   \n",
      "...      ...            ...      ...         ...     ...           ...   \n",
      "7038       1              0        1           1      24             1   \n",
      "7039       0              0        1           1      72             1   \n",
      "7040       0              0        1           1      11             0   \n",
      "7041       1              1        1           0       4             1   \n",
      "7042       1              0        0           0      66             1   \n",
      "\n",
      "      MultipleLines  InternetService  OnlineSecurity  OnlineBackup  \\\n",
      "0                 1                0               0             2   \n",
      "1                 0                0               2             0   \n",
      "2                 0                0               2             2   \n",
      "3                 1                0               2             0   \n",
      "4                 0                1               0             0   \n",
      "...             ...              ...             ...           ...   \n",
      "7038              2                0               2             0   \n",
      "7039              2                1               0             2   \n",
      "7040              1                0               2             0   \n",
      "7041              2                1               0             0   \n",
      "7042              0                1               2             0   \n",
      "\n",
      "      DeviceProtection  TechSupport  StreamingTV  StreamingMovies  Contract  \\\n",
      "0                    0            0            0                0         0   \n",
      "1                    2            0            0                0         1   \n",
      "2                    0            0            0                0         0   \n",
      "3                    2            2            0                0         1   \n",
      "4                    0            0            0                0         0   \n",
      "...                ...          ...          ...              ...       ...   \n",
      "7038                 2            2            2                2         1   \n",
      "7039                 2            0            2                2         1   \n",
      "7040                 0            0            0                0         0   \n",
      "7041                 0            0            0                0         0   \n",
      "7042                 2            2            2                2         2   \n",
      "\n",
      "      PaperlessBilling  PaymentMethod  MonthlyCharges  TotalCharges  \n",
      "0                    1              2           29.85         29.85  \n",
      "1                    0              3           56.95       1889.50  \n",
      "2                    1              3           53.85        108.15  \n",
      "3                    0              0           42.30       1840.75  \n",
      "4                    1              2           70.70        151.65  \n",
      "...                ...            ...             ...           ...  \n",
      "7038                 1              3           84.80       1990.50  \n",
      "7039                 1              1          103.20       7362.90  \n",
      "7040                 1              2           29.60        346.45  \n",
      "7041                 1              3           74.40        306.60  \n",
      "7042                 1              0          105.65       6844.50  \n",
      "\n",
      "[7032 rows x 19 columns]\n",
      "[0 0 1 ... 0 1 0]\n"
     ]
    }
   ],
   "source": [
    "#convert to numeric\n",
    "x.iloc[:,2]=label_encoder_x.fit_transform(x.iloc[:,2])\n",
    "x.iloc[:,3]=label_encoder_x.fit_transform(x.iloc[:,3])\n",
    "x.iloc[:,5]=label_encoder_x.fit_transform(x.iloc[:,5])\n",
    "x.iloc[:,6]=label_encoder_x.fit_transform(x.iloc[:,6])\n",
    "x.iloc[:,7]=label_encoder_x.fit_transform(x.iloc[:,7])\n",
    "x.iloc[:,8]=label_encoder_x.fit_transform(x.iloc[:,8])\n",
    "x.iloc[:,9]=label_encoder_x.fit_transform(x.iloc[:,9])\n",
    "x.iloc[:,10]=label_encoder_x.fit_transform(x.iloc[:,10])\n",
    "x.iloc[:,11]=label_encoder_x.fit_transform(x.iloc[:,11])\n",
    "x.iloc[:,12]=label_encoder_x.fit_transform(x.iloc[:,12])\n",
    "x.iloc[:,13]=label_encoder_x.fit_transform(x.iloc[:,13])\n",
    "x.iloc[:,14]=label_encoder_x.fit_transform(x.iloc[:,14])\n",
    "x.iloc[:,15]=label_encoder_x.fit_transform(x.iloc[:,15])\n",
    "x.iloc[:,16]=label_encoder_x.fit_transform(x.iloc[:,16])\n",
    "\n",
    "print(x)\n",
    "print(y)"
   ]
  },
  {
   "cell_type": "code",
   "execution_count": 193,
   "id": "4be9356d",
   "metadata": {},
   "outputs": [
    {
     "name": "stdout",
     "output_type": "stream",
     "text": [
      "      gender  SeniorCitizen  Partner  Dependents  tenure  PhoneService  \\\n",
      "0          0              0        1           0       1             0   \n",
      "1          1              0        0           0      34             1   \n",
      "2          1              0        0           0       2             1   \n",
      "3          1              0        0           0      45             0   \n",
      "4          0              0        0           0       2             1   \n",
      "...      ...            ...      ...         ...     ...           ...   \n",
      "7038       1              0        1           1      24             1   \n",
      "7039       0              0        1           1      72             1   \n",
      "7040       0              0        1           1      11             0   \n",
      "7041       1              1        1           0       4             1   \n",
      "7042       1              0        0           0      66             1   \n",
      "\n",
      "      PaperlessBilling  MonthlyCharges  TotalCharges  MultipleLines_0  ...  \\\n",
      "0                    1           29.85         29.85                0  ...   \n",
      "1                    0           56.95       1889.50                1  ...   \n",
      "2                    1           53.85        108.15                1  ...   \n",
      "3                    0           42.30       1840.75                0  ...   \n",
      "4                    1           70.70        151.65                1  ...   \n",
      "...                ...             ...           ...              ...  ...   \n",
      "7038                 1           84.80       1990.50                0  ...   \n",
      "7039                 1          103.20       7362.90                0  ...   \n",
      "7040                 1           29.60        346.45                0  ...   \n",
      "7041                 1           74.40        306.60                0  ...   \n",
      "7042                 1          105.65       6844.50                1  ...   \n",
      "\n",
      "      StreamingMovies_0  StreamingMovies_1  StreamingMovies_2  \\\n",
      "0                     1                  0                  0   \n",
      "1                     1                  0                  0   \n",
      "2                     1                  0                  0   \n",
      "3                     1                  0                  0   \n",
      "4                     1                  0                  0   \n",
      "...                 ...                ...                ...   \n",
      "7038                  0                  0                  1   \n",
      "7039                  0                  0                  1   \n",
      "7040                  1                  0                  0   \n",
      "7041                  1                  0                  0   \n",
      "7042                  0                  0                  1   \n",
      "\n",
      "      PaymentMethod_0  PaymentMethod_1  PaymentMethod_2  PaymentMethod_3  \\\n",
      "0                   0                0                1                0   \n",
      "1                   0                0                0                1   \n",
      "2                   0                0                0                1   \n",
      "3                   1                0                0                0   \n",
      "4                   0                0                1                0   \n",
      "...               ...              ...              ...              ...   \n",
      "7038                0                0                0                1   \n",
      "7039                0                1                0                0   \n",
      "7040                0                0                1                0   \n",
      "7041                0                0                0                1   \n",
      "7042                1                0                0                0   \n",
      "\n",
      "      Contract_0  Contract_1  Contract_2  \n",
      "0              1           0           0  \n",
      "1              0           1           0  \n",
      "2              1           0           0  \n",
      "3              0           1           0  \n",
      "4              1           0           0  \n",
      "...          ...         ...         ...  \n",
      "7038           0           1           0  \n",
      "7039           0           1           0  \n",
      "7040           1           0           0  \n",
      "7041           1           0           0  \n",
      "7042           0           0           1  \n",
      "\n",
      "[7032 rows x 40 columns]\n"
     ]
    }
   ],
   "source": [
    "#dummy encodng\n",
    "x=df\n",
    "one_hot_encoding_columns=[\"MultipleLines\",\"InternetService\",\"OnlineSecurity\", \"OnlineBackup\",\"DeviceProtection\" ,\"TechSupport\", \"StreamingTV\", \"StreamingMovies\",\"PaymentMethod\",\"Contract\"]\n",
    "x=pd.get_dummies(x,columns=one_hot_encoding_columns)\n",
    "print(x)"
   ]
  },
  {
   "cell_type": "code",
   "execution_count": 194,
   "id": "9e05a8ab",
   "metadata": {},
   "outputs": [
    {
     "data": {
      "text/plain": [
       "gender                0\n",
       "SeniorCitizen         0\n",
       "Partner               0\n",
       "Dependents            0\n",
       "tenure                0\n",
       "PhoneService          0\n",
       "PaperlessBilling      0\n",
       "MonthlyCharges        0\n",
       "TotalCharges          0\n",
       "MultipleLines_0       0\n",
       "MultipleLines_1       0\n",
       "MultipleLines_2       0\n",
       "InternetService_0     0\n",
       "InternetService_1     0\n",
       "InternetService_2     0\n",
       "OnlineSecurity_0      0\n",
       "OnlineSecurity_1      0\n",
       "OnlineSecurity_2      0\n",
       "OnlineBackup_0        0\n",
       "OnlineBackup_1        0\n",
       "OnlineBackup_2        0\n",
       "DeviceProtection_0    0\n",
       "DeviceProtection_1    0\n",
       "DeviceProtection_2    0\n",
       "TechSupport_0         0\n",
       "TechSupport_1         0\n",
       "TechSupport_2         0\n",
       "StreamingTV_0         0\n",
       "StreamingTV_1         0\n",
       "StreamingTV_2         0\n",
       "StreamingMovies_0     0\n",
       "StreamingMovies_1     0\n",
       "StreamingMovies_2     0\n",
       "PaymentMethod_0       0\n",
       "PaymentMethod_1       0\n",
       "PaymentMethod_2       0\n",
       "PaymentMethod_3       0\n",
       "Contract_0            0\n",
       "Contract_1            0\n",
       "Contract_2            0\n",
       "dtype: int64"
      ]
     },
     "execution_count": 194,
     "metadata": {},
     "output_type": "execute_result"
    }
   ],
   "source": [
    "#to find null\n",
    "x.isnull().sum()"
   ]
  },
  {
   "cell_type": "code",
   "execution_count": null,
   "id": "8d9ba042",
   "metadata": {},
   "outputs": [],
   "source": []
  },
  {
   "cell_type": "code",
   "execution_count": null,
   "id": "76277294",
   "metadata": {},
   "outputs": [],
   "source": []
  },
  {
   "cell_type": "code",
   "execution_count": 195,
   "id": "2c6c8eda",
   "metadata": {},
   "outputs": [],
   "source": [
    "#split data into training and testng\n",
    "from sklearn.model_selection import train_test_split\n",
    "x_train,x_test,y_train,y_test=train_test_split(x,y,test_size=0.25,random_state=0)"
   ]
  },
  {
   "cell_type": "code",
   "execution_count": 196,
   "id": "f03bded5",
   "metadata": {},
   "outputs": [
    {
     "name": "stdout",
     "output_type": "stream",
     "text": [
      "training\n",
      "[[0. 0. 1. ... 0. 0. 1.]\n",
      " [1. 0. 1. ... 0. 0. 1.]\n",
      " [0. 0. 0. ... 1. 0. 0.]\n",
      " ...\n",
      " [1. 0. 1. ... 1. 0. 0.]\n",
      " [0. 0. 1. ... 1. 0. 0.]\n",
      " [1. 0. 0. ... 0. 1. 0.]]\n",
      "testing\n",
      "[[1. 0. 0. ... 1. 0. 0.]\n",
      " [1. 0. 0. ... 1. 0. 0.]\n",
      " [0. 0. 0. ... 1. 0. 0.]\n",
      " ...\n",
      " [1. 0. 0. ... 1. 0. 0.]\n",
      " [1. 1. 0. ... 0. 1. 0.]\n",
      " [0. 0. 1. ... 0. 0. 1.]]\n"
     ]
    }
   ],
   "source": [
    "#minmax scaler\n",
    "from sklearn.preprocessing import MinMaxScaler\n",
    "st_x=MinMaxScaler()\n",
    "x_train=st_x.fit_transform(x_train)\n",
    "x_test=st_x.fit_transform(x_test)\n",
    "print(\"training\")\n",
    "print(x_train)\n",
    "print(\"testing\")\n",
    "print(x_test)"
   ]
  },
  {
   "cell_type": "code",
   "execution_count": 197,
   "id": "47d425c1",
   "metadata": {},
   "outputs": [
    {
     "data": {
      "text/plain": [
       "KNeighborsClassifier()"
      ]
     },
     "execution_count": 197,
     "metadata": {},
     "output_type": "execute_result"
    }
   ],
   "source": [
    "#fitting knn classifier\n",
    "from sklearn.neighbors import KNeighborsClassifier\n",
    "classifier=KNeighborsClassifier(n_neighbors=5)\n",
    "classifier.fit(x_train,y_train)"
   ]
  },
  {
   "cell_type": "code",
   "execution_count": 198,
   "id": "b225a7c0",
   "metadata": {},
   "outputs": [
    {
     "name": "stdout",
     "output_type": "stream",
     "text": [
      "[0 0 0 ... 1 0 0]\n"
     ]
    }
   ],
   "source": [
    "y_pred=classifier.predict(x_test)\n",
    "print(y_pred)"
   ]
  },
  {
   "cell_type": "code",
   "execution_count": 206,
   "id": "5ae50a9c",
   "metadata": {},
   "outputs": [
    {
     "data": {
      "text/plain": [
       "(7032, 40)"
      ]
     },
     "execution_count": 206,
     "metadata": {},
     "output_type": "execute_result"
    }
   ],
   "source": [
    "x.shape"
   ]
  },
  {
   "cell_type": "code",
   "execution_count": 199,
   "id": "961bc09f",
   "metadata": {},
   "outputs": [
    {
     "name": "stdout",
     "output_type": "stream",
     "text": [
      "[[1111  216]\n",
      " [ 200  231]]\n"
     ]
    }
   ],
   "source": [
    "from sklearn.metrics import confusion_matrix\n",
    "cm=confusion_matrix(y_pred,y_test,labels=classifier.classes_)\n",
    "print(cm)"
   ]
  },
  {
   "cell_type": "code",
   "execution_count": 200,
   "id": "45d1aedc",
   "metadata": {},
   "outputs": [
    {
     "data": {
      "text/plain": [
       "<sklearn.metrics._plot.confusion_matrix.ConfusionMatrixDisplay at 0x7f332d79b970>"
      ]
     },
     "execution_count": 200,
     "metadata": {},
     "output_type": "execute_result"
    },
    {
     "data": {
      "image/png": "[encoded data removed]",
      "text/plain": [
       "<Figure size 432x288 with 2 Axes>"
      ]
     },
     "metadata": {
      "needs_background": "light"
     },
     "output_type": "display_data"
    }
   ],
   "source": [
    "from sklearn.metrics import ConfusionMatrixDisplay\n",
    "disp=ConfusionMatrixDisplay(confusion_matrix=cm, display_labels=classifier.classes_)\n",
    "disp.plot()"
   ]
  },
  {
   "cell_type": "code",
   "execution_count": 201,
   "id": "32b3a919",
   "metadata": {},
   "outputs": [
    {
     "name": "stdout",
     "output_type": "stream",
     "text": [
      "0.8282138794084186\n",
      "0.7633674630261661\n"
     ]
    }
   ],
   "source": [
    "training_score=classifier.score(x_train,y_train)\n",
    "test_score=classifier.score(x_test,y_test)\n",
    "print(training_score)\n",
    "print(test_score)"
   ]
  },
  {
   "cell_type": "code",
   "execution_count": 203,
   "id": "bebb468f",
   "metadata": {},
   "outputs": [],
   "source": [
    "K=[]\n",
    "training=[]\n",
    "test=[]\n",
    "scores={}\n",
    "for k in range(2,22):\n",
    "    clf=KNeighborsClassifier(n_neighbors=k)\n",
    "    clf.fit(x_train,y_train)\n",
    "    training_score=clf.score(x_train,y_train)\n",
    "    test_score=clf.score(x_test,y_test)\n",
    "    K.append(k)\n",
    "    training.append(training_score)\n",
    "    test.append(test_score)\n",
    "    scores[k] = [training_score, test_score]\n",
    "    "
   ]
  },
  {
   "cell_type": "code",
   "execution_count": 204,
   "id": "31d3b458",
   "metadata": {},
   "outputs": [
    {
     "name": "stdout",
     "output_type": "stream",
     "text": [
      "2 : [0.8581721653394009, 0.7559726962457338]\n",
      "3 : [0.8558968524838833, 0.7417519908987485]\n",
      "4 : [0.8386423966628744, 0.767349260523322]\n",
      "5 : [0.8282138794084186, 0.7633674630261661]\n",
      "6 : [0.8244216913158893, 0.7838452787258248]\n",
      "7 : [0.820250284414107, 0.7696245733788396]\n",
      "8 : [0.8179749715585893, 0.7861205915813424]\n",
      "9 : [0.8122866894197952, 0.7775881683731513]\n",
      "10 : [0.810580204778157, 0.7821387940841866]\n",
      "11 : [0.8141827834660599, 0.7753128555176336]\n",
      "12 : [0.8109594235874099, 0.7753128555176336]\n",
      "13 : [0.8064087978763747, 0.7815699658703071]\n",
      "14 : [0.8081152825180129, 0.7878270762229806]\n",
      "15 : [0.8102009859689041, 0.7838452787258248]\n",
      "16 : [0.8064087978763747, 0.7872582480091013]\n",
      "17 : [0.8020477815699659, 0.7792946530147895]\n",
      "18 : [0.801668562760713, 0.7861205915813424]\n",
      "19 : [0.7973075464543041, 0.7810011376564278]\n",
      "20 : [0.7992036405005688, 0.785551763367463]\n",
      "21 : [0.7963594994311718, 0.7878270762229806]\n"
     ]
    }
   ],
   "source": [
    "for keys, values in scores.items():\n",
    "    print(keys, ':', values)"
   ]
  },
  {
   "cell_type": "code",
   "execution_count": 205,
   "id": "e2c59820",
   "metadata": {},
   "outputs": [
    {
     "data": {
      "image/png": "[encoded data removed]",
      "text/plain": [
       "<Figure size 432x288 with 1 Axes>"
      ]
     },
     "metadata": {
      "needs_background": "light"
     },
     "output_type": "display_data"
    }
   ],
   "source": [
    "import matplotlib.pyplot as plt\n",
    "plt.scatter(K, training, color ='k')\n",
    "plt.scatter(K, test, color ='g')\n",
    "plt.show()"
   ]
  }
 ],
 "metadata": {
  "kernelspec": {
   "display_name": "Python 3 (ipykernel)",
   "language": "python",
   "name": "python3"
  },
  "language_info": {
   "codemirror_mode": {
    "name": "ipython",
    "version": 3
   },
   "file_extension": ".py",
   "mimetype": "text/x-python",
   "name": "python",
   "nbconvert_exporter": "python",
   "pygments_lexer": "ipython3",
   "version": "3.9.12"
  }
 },
 "nbformat": 4,
 "nbformat_minor": 5
}
