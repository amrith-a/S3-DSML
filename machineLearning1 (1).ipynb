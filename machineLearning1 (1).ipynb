{
 "cells": [
  {
   "cell_type": "code",
   "execution_count": 2,
   "id": "ceca8f56",
   "metadata": {},
   "outputs": [
    {
     "name": "stdout",
     "output_type": "stream",
     "text": [
      "[ 1  2  3  4  5  6  7  8  9 10 11 12 13 14]\n",
      "14\n",
      "Enter number to be updated20\n",
      "[ 1  2  3  4  5  6  7  8 20 10 11 12 13 14]\n",
      "[14 13 12 11 10 20  8  7  6  5  4  3  2  1]\n",
      "[[ 1  2]\n",
      " [ 3  4]\n",
      " [ 5  6]\n",
      " [ 7  8]\n",
      " [20 10]\n",
      " [11 12]\n",
      " [13 14]]\n"
     ]
    }
   ],
   "source": [
    "#p1\n",
    "import numpy as np\n",
    "arr=np.arange(1,15)\n",
    "print(arr)\n",
    "print(arr.size)\n",
    "num=int(input(\"Enter number to be updated\"))\n",
    "arr[8]=num\n",
    "print(arr)\n",
    "arr1=arr[::-1]\n",
    "print(arr1)\n",
    "arr2=arr.reshape(7,2)\n",
    "print(arr2)"
   ]
  },
  {
   "cell_type": "code",
   "execution_count": 3,
   "id": "8bf59306",
   "metadata": {},
   "outputs": [
    {
     "name": "stdout",
     "output_type": "stream",
     "text": [
      "[[12 13 14 15]\n",
      " [16 17 18 19]\n",
      " [20 21 22 23]\n",
      " [24 25 26 27]\n",
      " [28 29 30 31]]\n",
      "Shape (5, 4)\n",
      "type <class 'numpy.ndarray'>\n",
      "datatype int64\n"
     ]
    }
   ],
   "source": [
    "#p2\n",
    "import numpy as np\n",
    "x=np.arange(12,32).reshape(5,4)\n",
    "print(x)\n",
    "print(\"Shape\",x.shape)\n",
    "print(\"type\",type(x))\n",
    "print(\"datatype\",x.dtype)"
   ]
  },
  {
   "cell_type": "code",
   "execution_count": 4,
   "id": "afdcad82",
   "metadata": {},
   "outputs": [
    {
     "name": "stdout",
     "output_type": "stream",
     "text": [
      "[[0 1 0 1 0 1 0 1]\n",
      " [1 0 1 0 1 0 1 0]\n",
      " [0 1 0 1 0 1 0 1]\n",
      " [1 0 1 0 1 0 1 0]\n",
      " [0 1 0 1 0 1 0 1]\n",
      " [1 0 1 0 1 0 1 0]\n",
      " [0 1 0 1 0 1 0 1]\n",
      " [1 0 1 0 1 0 1 0]]\n"
     ]
    }
   ],
   "source": [
    "#p3\n",
    "import numpy as  np\n",
    "x=np.zeros((8,8),dtype=int)\n",
    "x[1::2,::2]=1\n",
    "x[::2,1::2]=1\n",
    "print(x)"
   ]
  },
  {
   "cell_type": "code",
   "execution_count": 5,
   "id": "082eccd5",
   "metadata": {},
   "outputs": [
    {
     "name": "stdout",
     "output_type": "stream",
     "text": [
      "[1 2 3 4 5]\n",
      "[2 4 6]\n",
      "Comparison:  [False  True False  True False]\n"
     ]
    }
   ],
   "source": [
    "#p4\n",
    "import numpy as np\n",
    "arr1=np.array([1,2,3,4,5])\n",
    "arr2=np.array([2,4,6])\n",
    "print(arr1)\n",
    "print(arr2)\n",
    "print(\"Comparison: \",np.in1d(arr1,arr2))"
   ]
  },
  {
   "cell_type": "code",
   "execution_count": 6,
   "id": "8d4effc1",
   "metadata": {},
   "outputs": [
    {
     "name": "stdout",
     "output_type": "stream",
     "text": [
      "Union:  [0 1 2 3 4 6 7]\n",
      "Intersection:  [1 2 3]\n"
     ]
    }
   ],
   "source": [
    "#p5\n",
    "import numpy as np\n",
    "arr1=np.array([0,1,2,3,4])\n",
    "arr2=np.array([1,2,3,6,7])\n",
    "print(\"Union: \",np.union1d(arr1,arr2))\n",
    "print(\"Intersection: \",np.intersect1d(arr1,arr2))"
   ]
  },
  {
   "cell_type": "code",
   "execution_count": 7,
   "id": "cde5740f",
   "metadata": {},
   "outputs": [
    {
     "name": "stdout",
     "output_type": "stream",
     "text": [
      "Uniquely:  [1 2 3 4 5]\n"
     ]
    }
   ],
   "source": [
    "#p6\n",
    "import numpy as np\n",
    "arr1=np.array([1,2,3,3,4,4,5])\n",
    "print(\"Uniquely: \",np.unique(arr1))"
   ]
  },
  {
   "cell_type": "code",
   "execution_count": 9,
   "id": "f7d8fbf3",
   "metadata": {},
   "outputs": [
    {
     "name": "stdout",
     "output_type": "stream",
     "text": [
      "[ 1  2  3  4  5  6  7  8 20 10 11 12 13 14]\n",
      "<class 'numpy.ndarray'>\n",
      "[1, 2, 3, 4, 5, 6, 7, 8, 20, 10, 11, 12, 13, 14]\n",
      "<class 'list'>\n"
     ]
    }
   ],
   "source": [
    "#p7\n",
    "import numpy as np\n",
    "arr1=np.array([1,2,3,4,5])\n",
    "print(arr)\n",
    "print(type(arr))\n",
    "l1=arr.tolist()\n",
    "print(l1)\n",
    "print(type(l1))"
   ]
  },
  {
   "cell_type": "code",
   "execution_count": null,
   "id": "30c0662b",
   "metadata": {},
   "outputs": [],
   "source": []
  }
 ],
 "metadata": {
  "kernelspec": {
   "display_name": "Python 3 (ipykernel)",
   "language": "python",
   "name": "python3"
  },
  "language_info": {
   "codemirror_mode": {
    "name": "ipython",
    "version": 3
   },
   "file_extension": ".py",
   "mimetype": "text/x-python",
   "name": "python",
   "nbconvert_exporter": "python",
   "pygments_lexer": "ipython3",
   "version": "3.9.12"
  }
 },
 "nbformat": 4,
 "nbformat_minor": 5
}
