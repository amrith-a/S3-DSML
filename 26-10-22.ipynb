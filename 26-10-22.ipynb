{
 "cells": [
  {
   "cell_type": "markdown",
   "id": "e4a0dbd4",
   "metadata": {},
   "source": [
    "Amritha\n",
    "Simple linear regession"
   ]
  },
  {
   "cell_type": "code",
   "execution_count": 16,
   "id": "1db172a3",
   "metadata": {},
   "outputs": [],
   "source": [
    "import numpy as np\n",
    "import matplotlib.pyplot as plt\n",
    "import pandas as pd"
   ]
  },
  {
   "cell_type": "code",
   "execution_count": 17,
   "id": "9466f0ee",
   "metadata": {},
   "outputs": [],
   "source": [
    "df=pd.read_csv(\"Salary_Data.csv\")"
   ]
  },
  {
   "cell_type": "code",
   "execution_count": 18,
   "id": "4f5954da",
   "metadata": {},
   "outputs": [
    {
     "name": "stdout",
     "output_type": "stream",
     "text": [
      "    YearsExperience    Salary\n",
      "0               1.1   39343.0\n",
      "1               1.3   46205.0\n",
      "2               1.5   37731.0\n",
      "3               2.0   43525.0\n",
      "4               2.2   39891.0\n",
      "5               2.9   56642.0\n",
      "6               3.0   60150.0\n",
      "7               3.2   54445.0\n",
      "8               3.2   64445.0\n",
      "9               3.7   57189.0\n",
      "10              3.9   63218.0\n",
      "11              4.0   55794.0\n",
      "12              4.0   56957.0\n",
      "13              4.1   57081.0\n",
      "14              4.5   61111.0\n",
      "15              4.9   67938.0\n",
      "16              5.1   66029.0\n",
      "17              5.3   83088.0\n",
      "18              5.9   81363.0\n",
      "19              6.0   93940.0\n",
      "20              6.8   91738.0\n",
      "21              7.1   98273.0\n",
      "22              7.9  101302.0\n",
      "23              8.2  113812.0\n",
      "24              8.7  109431.0\n",
      "25              9.0  105582.0\n",
      "26              9.5  116969.0\n",
      "27              9.6  112635.0\n",
      "28             10.3  122391.0\n",
      "29             10.5  121872.0\n"
     ]
    }
   ],
   "source": [
    "print(df)"
   ]
  },
  {
   "cell_type": "code",
   "execution_count": 19,
   "id": "487c20ef",
   "metadata": {},
   "outputs": [
    {
     "data": {
      "text/plain": [
       "<AxesSubplot:>"
      ]
     },
     "execution_count": 19,
     "metadata": {},
     "output_type": "execute_result"
    },
    {
     "data": {
      "image/png": "[encoded data removed]",
      "text/plain": [
       "<Figure size 432x288 with 2 Axes>"
      ]
     },
     "metadata": {
      "needs_background": "light"
     },
     "output_type": "display_data"
    }
   ],
   "source": [
    "#check corelation between dependent adn independent variable\n",
    "import seaborn as sns\n",
    "sns.heatmap(df.corr(),annot=True)"
   ]
  },
  {
   "cell_type": "code",
   "execution_count": 20,
   "id": "035ae6e2",
   "metadata": {},
   "outputs": [],
   "source": [
    "#dependent and independent \n",
    "x=df.iloc[:,:-1].values\n",
    "y=df.iloc[:,1:].values"
   ]
  },
  {
   "cell_type": "code",
   "execution_count": 21,
   "id": "6bba037e",
   "metadata": {},
   "outputs": [
    {
     "name": "stdout",
     "output_type": "stream",
     "text": [
      "[[ 1.1]\n",
      " [ 1.3]\n",
      " [ 1.5]\n",
      " [ 2. ]\n",
      " [ 2.2]\n",
      " [ 2.9]\n",
      " [ 3. ]\n",
      " [ 3.2]\n",
      " [ 3.2]\n",
      " [ 3.7]\n",
      " [ 3.9]\n",
      " [ 4. ]\n",
      " [ 4. ]\n",
      " [ 4.1]\n",
      " [ 4.5]\n",
      " [ 4.9]\n",
      " [ 5.1]\n",
      " [ 5.3]\n",
      " [ 5.9]\n",
      " [ 6. ]\n",
      " [ 6.8]\n",
      " [ 7.1]\n",
      " [ 7.9]\n",
      " [ 8.2]\n",
      " [ 8.7]\n",
      " [ 9. ]\n",
      " [ 9.5]\n",
      " [ 9.6]\n",
      " [10.3]\n",
      " [10.5]]\n"
     ]
    }
   ],
   "source": [
    "print(x)"
   ]
  },
  {
   "cell_type": "code",
   "execution_count": 22,
   "id": "01efaa75",
   "metadata": {},
   "outputs": [
    {
     "name": "stdout",
     "output_type": "stream",
     "text": [
      "[[ 39343.]\n",
      " [ 46205.]\n",
      " [ 37731.]\n",
      " [ 43525.]\n",
      " [ 39891.]\n",
      " [ 56642.]\n",
      " [ 60150.]\n",
      " [ 54445.]\n",
      " [ 64445.]\n",
      " [ 57189.]\n",
      " [ 63218.]\n",
      " [ 55794.]\n",
      " [ 56957.]\n",
      " [ 57081.]\n",
      " [ 61111.]\n",
      " [ 67938.]\n",
      " [ 66029.]\n",
      " [ 83088.]\n",
      " [ 81363.]\n",
      " [ 93940.]\n",
      " [ 91738.]\n",
      " [ 98273.]\n",
      " [101302.]\n",
      " [113812.]\n",
      " [109431.]\n",
      " [105582.]\n",
      " [116969.]\n",
      " [112635.]\n",
      " [122391.]\n",
      " [121872.]]\n"
     ]
    }
   ],
   "source": [
    "print(y)"
   ]
  },
  {
   "cell_type": "code",
   "execution_count": 25,
   "id": "5f6eed7b",
   "metadata": {},
   "outputs": [],
   "source": [
    "#splitting\n",
    "from sklearn.model_selection import train_test_split\n",
    "x_train,x_test,y_train,y_test=train_test_split(x,y,test_size=1/3,random_state=0)"
   ]
  },
  {
   "cell_type": "code",
   "execution_count": 26,
   "id": "ed657648",
   "metadata": {},
   "outputs": [
    {
     "data": {
      "text/plain": [
       "LinearRegression()"
      ]
     },
     "execution_count": 26,
     "metadata": {},
     "output_type": "execute_result"
    }
   ],
   "source": [
    "#fitting linear regression model\n",
    "from sklearn.linear_model import LinearRegression\n",
    "regressor= LinearRegression()\n",
    "regressor.fit(x_train,y_train)"
   ]
  },
  {
   "cell_type": "code",
   "execution_count": 27,
   "id": "cccf2dac",
   "metadata": {},
   "outputs": [],
   "source": [
    "#prediction\n",
    "test_pred=regressor.predict(x_test)\n",
    "train_pred=regressor.predict(x_train)"
   ]
  },
  {
   "cell_type": "code",
   "execution_count": 29,
   "id": "26f4dcf6",
   "metadata": {},
   "outputs": [
    {
     "data": {
      "text/plain": [
       "Text(0, 0.5, 'Salary(In Rupees)')"
      ]
     },
     "execution_count": 29,
     "metadata": {},
     "output_type": "execute_result"
    },
    {
     "data": {
      "image/png": "[encoded data removed]",
      "text/plain": [
       "<Figure size 432x288 with 1 Axes>"
      ]
     },
     "metadata": {
      "needs_background": "light"
     },
     "output_type": "display_data"
    }
   ],
   "source": [
    "#visualization\n",
    "import matplotlib.pyplot as plt\n",
    "plt.scatter(x_test,y_test)\n",
    "plt.plot(x_test,test_pred,color='black')\n",
    "plt.title('\"Salary vs Experience (Testing Dataset)')\n",
    "plt.xlabel('Years of Experience')\n",
    "plt.ylabel('Salary(In Rupees)')"
   ]
  },
  {
   "cell_type": "code",
   "execution_count": 31,
   "id": "744ee92c",
   "metadata": {},
   "outputs": [
    {
     "data": {
      "text/plain": [
       "Text(0, 0.5, 'Salary(In Rupees)')"
      ]
     },
     "execution_count": 31,
     "metadata": {},
     "output_type": "execute_result"
    },
    {
     "data": {
      "image/png": "[encoded data removed]",
      "text/plain": [
       "<Figure size 432x288 with 1 Axes>"
      ]
     },
     "metadata": {
      "needs_background": "light"
     },
     "output_type": "display_data"
    }
   ],
   "source": [
    "plt.scatter(x_train,y_train)\n",
    "plt.plot(x_train,train_pred,color='black')\n",
    "plt.title('\"Salary vs Experience (Testing Dataset)')\n",
    "plt.xlabel('Years of Experience')\n",
    "plt.ylabel('Salary(In Rupees)')"
   ]
  },
  {
   "cell_type": "code",
   "execution_count": 32,
   "id": "421effd4",
   "metadata": {},
   "outputs": [
    {
     "name": "stdout",
     "output_type": "stream",
     "text": [
      "0.9749154407708353\n"
     ]
    }
   ],
   "source": [
    "print(regressor.score(x_test,y_test))"
   ]
  },
  {
   "cell_type": "code",
   "execution_count": 33,
   "id": "154856f0",
   "metadata": {},
   "outputs": [
    {
     "name": "stdout",
     "output_type": "stream",
     "text": [
      "0.9381900012894278\n"
     ]
    }
   ],
   "source": [
    "print(regressor.score(x_train, y_train))"
   ]
  },
  {
   "cell_type": "code",
   "execution_count": 34,
   "id": "2f3b9e54",
   "metadata": {},
   "outputs": [
    {
     "name": "stdout",
     "output_type": "stream",
     "text": [
      "[26816.19224403]\n",
      "[[9345.94244312]]\n"
     ]
    }
   ],
   "source": [
    "print(regressor.intercept_)\n",
    "print(regressor.coef_)"
   ]
  },
  {
   "cell_type": "code",
   "execution_count": 39,
   "id": "8565068f",
   "metadata": {},
   "outputs": [
    {
     "name": "stdout",
     "output_type": "stream",
     "text": [
      "Mean Absolute Error: 3426.42693743071\n",
      "Mean Squared Error: 21026037.329511303\n",
      "Root Mean Squared Error: 4585.415720467589\n"
     ]
    }
   ],
   "source": [
    "from sklearn import metrics\n",
    "print('Mean Absolute Error:', metrics.mean_absolute_error(y_test, test_pred))\n",
    "print('Mean Squared Error:', metrics.mean_squared_error(y_test, test_pred))\n",
    "print('Root Mean Squared Error:', np.sqrt(metrics.mean_squared_error(y_test, test_pred)))"
   ]
  },
  {
   "cell_type": "code",
   "execution_count": null,
   "id": "c0e028f1",
   "metadata": {},
   "outputs": [],
   "source": []
  }
 ],
 "metadata": {
  "kernelspec": {
   "display_name": "Python 3 (ipykernel)",
   "language": "python",
   "name": "python3"
  },
  "language_info": {
   "codemirror_mode": {
    "name": "ipython",
    "version": 3
   },
   "file_extension": ".py",
   "mimetype": "text/x-python",
   "name": "python",
   "nbconvert_exporter": "python",
   "pygments_lexer": "ipython3",
   "version": "3.9.12"
  }
 },
 "nbformat": 4,
 "nbformat_minor": 5
}
