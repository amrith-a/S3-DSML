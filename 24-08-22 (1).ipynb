{
 "cells": [
  {
   "cell_type": "code",
   "execution_count": 3,
   "id": "be04bf9d",
   "metadata": {},
   "outputs": [
    {
     "name": "stdout",
     "output_type": "stream",
     "text": [
      "0    1\n",
      "1    2\n",
      "2    3\n",
      "3    4\n",
      "dtype: int64\n"
     ]
    }
   ],
   "source": [
    "#write a pandas program to create a one dimensional array like object conatainng \n",
    "import pandas as pd\n",
    "arr=[1,2,3,4]\n",
    "a=pd.Series(arr)\n",
    "print(a)"
   ]
  },
  {
   "cell_type": "code",
   "execution_count": 5,
   "id": "b4b2336b",
   "metadata": {},
   "outputs": [
    {
     "name": "stdout",
     "output_type": "stream",
     "text": [
      "x    1\n",
      "y    2\n",
      "z    3\n",
      "p    4\n",
      "dtype: int64\n"
     ]
    }
   ],
   "source": [
    "import pandas as pd\n",
    "arr=[1,2,3,4]\n",
    "a=pd.Series(arr,index=[\"x\",\"y\",\"z\",\"p\"])\n",
    "print(a)"
   ]
  },
  {
   "cell_type": "code",
   "execution_count": 6,
   "id": "98e74776",
   "metadata": {},
   "outputs": [
    {
     "name": "stdout",
     "output_type": "stream",
     "text": [
      "day1    420\n",
      "day2    380\n",
      "dtype: int64\n"
     ]
    }
   ],
   "source": [
    "import pandas as pd\n",
    "calories = {\"day1\": 420, \"day2\": 380, \"day3\": 390}\n",
    "data=pd.Series(calories,index=[\"day1\",\"day2\"])\n",
    "print(data)"
   ]
  },
  {
   "cell_type": "code",
   "execution_count": 13,
   "id": "142d7949",
   "metadata": {},
   "outputs": [
    {
     "name": "stdout",
     "output_type": "stream",
     "text": [
      "sum:\n",
      "  0     3\n",
      "1     6\n",
      "2     8\n",
      "3    11\n",
      "dtype: int64\n",
      "Difference:\n",
      " 0   -1\n",
      "1   -2\n",
      "2   -2\n",
      "3   -3\n",
      "dtype: int64\n",
      "Product:\n",
      " 0     2\n",
      "1     8\n",
      "2    15\n",
      "3    28\n",
      "dtype: int64\n",
      "Division:\n",
      " 0    0.500000\n",
      "1    0.500000\n",
      "2    0.600000\n",
      "3    0.571429\n",
      "dtype: float64\n"
     ]
    }
   ],
   "source": [
    "#write a pandas program to add subtract multiply divide\n",
    "data1=pd.Series([1,2,3,4])\n",
    "data2=pd.Series([2,4,5,7])\n",
    "dsum=data1+data2\n",
    "print(\"sum:\\n \",dsum)\n",
    "dsub=data1-data2\n",
    "print(\"Difference:\\n\",dsub)\n",
    "dmul=data1*data2\n",
    "print(\"Product:\\n\",dmul)\n",
    "ddiv=data1/data2\n",
    "print(\"Division:\\n\",ddiv)"
   ]
  },
  {
   "cell_type": "code",
   "execution_count": 16,
   "id": "d0f1ed55",
   "metadata": {},
   "outputs": [
    {
     "name": "stdout",
     "output_type": "stream",
     "text": [
      "   calories  duration\n",
      "0        12         5\n",
      "1        25         7\n",
      "2        50         8\n"
     ]
    }
   ],
   "source": [
    "import pandas as pd\n",
    "data={\"calories\":[12,25,50],\"duration\":[5,7,8]}\n",
    "df = pd.DataFrame(data)\n",
    "print(df)"
   ]
  },
  {
   "cell_type": "code",
   "execution_count": 22,
   "id": "92a81e51",
   "metadata": {},
   "outputs": [
    {
     "name": "stdout",
     "output_type": "stream",
     "text": [
      "  name  score  attempts qualify\n",
      "0    A   12.5         1     yes\n",
      "1    B    9.0         3      no\n",
      "2    C    NaN         2     yes\n"
     ]
    }
   ],
   "source": [
    "import numpy as np\n",
    "exam_data  = {'name': [\"A\",\"B\",\"C\"],'score': [12.5, 9, np.nan],'attempts': [1, 3, 2],'qualify': ['yes', 'no', 'yes']}\n",
    "df = pd.DataFrame(exam_data)\n",
    "print(df)\n"
   ]
  },
  {
   "cell_type": "code",
   "execution_count": 23,
   "id": "dd38eb63",
   "metadata": {},
   "outputs": [
    {
     "name": "stdout",
     "output_type": "stream",
     "text": [
      "<class 'pandas.core.frame.DataFrame'>\n",
      "RangeIndex: 3 entries, 0 to 2\n",
      "Data columns (total 4 columns):\n",
      " #   Column    Non-Null Count  Dtype  \n",
      "---  ------    --------------  -----  \n",
      " 0   name      3 non-null      object \n",
      " 1   score     2 non-null      float64\n",
      " 2   attempts  3 non-null      int64  \n",
      " 3   qualify   3 non-null      object \n",
      "dtypes: float64(1), int64(1), object(2)\n",
      "memory usage: 224.0+ bytes\n",
      "None\n"
     ]
    }
   ],
   "source": [
    "print(df.info())"
   ]
  },
  {
   "cell_type": "code",
   "execution_count": 26,
   "id": "d1e246aa",
   "metadata": {},
   "outputs": [
    {
     "name": "stdout",
     "output_type": "stream",
     "text": [
      "  name  score  attempts\n",
      "0    A   12.5         1\n",
      "1    B    9.0         3\n",
      "2    C    NaN         2\n"
     ]
    }
   ],
   "source": [
    "print(df[[\"name\",\"score\",\"attempts\"]])"
   ]
  },
  {
   "cell_type": "code",
   "execution_count": 28,
   "id": "2ae15127",
   "metadata": {},
   "outputs": [
    {
     "name": "stdout",
     "output_type": "stream",
     "text": [
      "  name\n",
      "0    A\n",
      "1    B\n",
      "2    C\n"
     ]
    }
   ],
   "source": [
    "print(df[[\"name\"]])"
   ]
  },
  {
   "cell_type": "code",
   "execution_count": 31,
   "id": "2ceb3783",
   "metadata": {},
   "outputs": [
    {
     "name": "stdout",
     "output_type": "stream",
     "text": [
      "  name  score  attempts qualify\n",
      "0    A   12.5         1     yes\n"
     ]
    }
   ],
   "source": [
    "print(df[df[\"name\"] == \"A\"])\n"
   ]
  },
  {
   "cell_type": "code",
   "execution_count": 32,
   "id": "f9515f72",
   "metadata": {},
   "outputs": [
    {
     "name": "stdout",
     "output_type": "stream",
     "text": [
      "  name  score  attempts qualify\n",
      "1    B    9.0         3      no\n"
     ]
    }
   ],
   "source": [
    "print(df[df['attempts'] > 2])\n"
   ]
  },
  {
   "cell_type": "code",
   "execution_count": 34,
   "id": "2f897187",
   "metadata": {},
   "outputs": [
    {
     "name": "stdout",
     "output_type": "stream",
     "text": [
      "3\n"
     ]
    }
   ],
   "source": [
    "row=len(df.axes[0])\n",
    "print(row)"
   ]
  },
  {
   "cell_type": "code",
   "execution_count": 39,
   "id": "4ad31466",
   "metadata": {},
   "outputs": [
    {
     "name": "stdout",
     "output_type": "stream",
     "text": [
      "4\n"
     ]
    }
   ],
   "source": [
    "col=len(df.axes[1])\n",
    "print(row)"
   ]
  },
  {
   "cell_type": "code",
   "execution_count": 37,
   "id": "d089ff01",
   "metadata": {},
   "outputs": [
    {
     "name": "stdout",
     "output_type": "stream",
     "text": [
      "3\n"
     ]
    }
   ],
   "source": [
    "row=len(df)\n",
    "print(row)"
   ]
  },
  {
   "cell_type": "code",
   "execution_count": 40,
   "id": "5a4bc698",
   "metadata": {},
   "outputs": [
    {
     "name": "stdout",
     "output_type": "stream",
     "text": [
      "  name  score  attempts qualify\n",
      "2    C    NaN         2     yes\n"
     ]
    }
   ],
   "source": [
    "print(df[df['score'].isnull()])\n"
   ]
  },
  {
   "cell_type": "code",
   "execution_count": 45,
   "id": "035204c9",
   "metadata": {},
   "outputs": [
    {
     "name": "stdout",
     "output_type": "stream",
     "text": [
      "  name  score  attempts qualify\n",
      "0    A   12.5         1     yes\n"
     ]
    }
   ],
   "source": [
    "print(df.loc[[0]])"
   ]
  },
  {
   "cell_type": "code",
   "execution_count": 59,
   "id": "cbffc009",
   "metadata": {},
   "outputs": [
    {
     "name": "stdout",
     "output_type": "stream",
     "text": [
      "name          A\n",
      "score      12.5\n",
      "qualify     yes\n",
      "Name: 0, dtype: object ['score']\n"
     ]
    }
   ],
   "source": [
    "print(df.loc[0],['score'])"
   ]
  },
  {
   "cell_type": "code",
   "execution_count": 44,
   "id": "3b45513e",
   "metadata": {},
   "outputs": [
    {
     "name": "stdout",
     "output_type": "stream",
     "text": [
      "  name  score  attempts qualify\n",
      "0    A   12.5         1     yes\n",
      "1    B    9.0         3      no\n"
     ]
    }
   ],
   "source": [
    "print(df.loc[[0,1]])"
   ]
  },
  {
   "cell_type": "code",
   "execution_count": 47,
   "id": "52715ed7",
   "metadata": {},
   "outputs": [
    {
     "name": "stdout",
     "output_type": "stream",
     "text": [
      "  name  score qualify\n",
      "0    A   12.5     yes\n",
      "1    B    9.0      no\n",
      "2    C    NaN     yes\n"
     ]
    }
   ],
   "source": [
    "df.pop('attempts')\n",
    "print(df)"
   ]
  },
  {
   "cell_type": "code",
   "execution_count": 55,
   "id": "ceecf881",
   "metadata": {},
   "outputs": [
    {
     "name": "stdout",
     "output_type": "stream",
     "text": [
      "   score qualify\n",
      "0   12.5     yes\n",
      "1    9.0      no\n"
     ]
    }
   ],
   "source": [
    "result=df.iloc[[0,1],[1,2]]\n",
    "print(result)"
   ]
  },
  {
   "cell_type": "code",
   "execution_count": 56,
   "id": "75f984fe",
   "metadata": {},
   "outputs": [],
   "source": [
    "df.to_csv('exam_data.csv',index=False)\n"
   ]
  },
  {
   "cell_type": "code",
   "execution_count": 58,
   "id": "d27331c8",
   "metadata": {},
   "outputs": [
    {
     "name": "stdout",
     "output_type": "stream",
     "text": [
      "  name  score qualify\n",
      "0    A   12.5     yes\n",
      "1    B    9.0      no\n",
      "2    C    NaN     yes\n"
     ]
    }
   ],
   "source": [
    "df=pd.read_csv(\"exam_data.csv\")\n",
    "print(df)"
   ]
  },
  {
   "cell_type": "code",
   "execution_count": 61,
   "id": "a66a4e3c",
   "metadata": {},
   "outputs": [
    {
     "name": "stdout",
     "output_type": "stream",
     "text": [
      "  name  score  attempts qualify\n",
      "0    A   12.5         1     yes\n",
      "1    B    9.0         3      no\n",
      "2    C    NaN         2     yes\n",
      "3    D    5.0         1     yes\n",
      "4    E    6.0         2      no\n",
      "5    F    8.0         3     yes\n",
      "6    G    NaN         4     yes\n",
      "7    H   10.0         2      no\n",
      "8    I    7.0         3     yes\n",
      "9    J    9.0         4      no\n"
     ]
    }
   ],
   "source": [
    "import numpy as np\n",
    "exam_data  = {'name': [\"A\",\"B\",\"C\",\"D\",\"E\",\"F\",\"G\",\"H\",\"I\",\"J\"],'score': [12.5, 9, np.nan,5,6,8,np.nan,10,7,9],'attempts': [1, 3, 2,1,2,3,4,2,3,4],'qualify': ['yes', 'no', 'yes','yes', 'no', 'yes','yes', 'no', 'yes','no']}\n",
    "df=pd.DataFrame(exam_data)\n",
    "print(df)\n"
   ]
  },
  {
   "cell_type": "code",
   "execution_count": 62,
   "id": "3d465f18",
   "metadata": {},
   "outputs": [
    {
     "name": "stdout",
     "output_type": "stream",
     "text": [
      "  name qualify\n",
      "0    A     yes\n",
      "1    B      no\n",
      "2    C     yes\n",
      "3    D     yes\n",
      "4    E      no\n",
      "5    F     yes\n",
      "6    G     yes\n",
      "7    H      no\n",
      "8    I     yes\n",
      "9    J      no\n"
     ]
    }
   ],
   "source": [
    "print(df[[\"name\",\"qualify\"]])"
   ]
  },
  {
   "cell_type": "code",
   "execution_count": 63,
   "id": "50fe3a25",
   "metadata": {},
   "outputs": [
    {
     "name": "stdout",
     "output_type": "stream",
     "text": [
      "  name  score  attempts qualify\n",
      "1    B    9.0         3      no\n",
      "5    F    8.0         3     yes\n",
      "6    G    NaN         4     yes\n",
      "8    I    7.0         3     yes\n",
      "9    J    9.0         4      no\n"
     ]
    }
   ],
   "source": [
    "print(df[df[\"attempts\"]>2])"
   ]
  },
  {
   "cell_type": "code",
   "execution_count": 65,
   "id": "777478cc",
   "metadata": {},
   "outputs": [
    {
     "name": "stdout",
     "output_type": "stream",
     "text": [
      "10\n"
     ]
    }
   ],
   "source": [
    "row=len(df.axes[0])\n",
    "print(row)"
   ]
  },
  {
   "cell_type": "code",
   "execution_count": 66,
   "id": "82565fae",
   "metadata": {},
   "outputs": [
    {
     "name": "stdout",
     "output_type": "stream",
     "text": [
      "4\n"
     ]
    }
   ],
   "source": [
    "col=len(df.axes[1])\n",
    "print(col)"
   ]
  },
  {
   "cell_type": "code",
   "execution_count": 69,
   "id": "7e1844be",
   "metadata": {},
   "outputs": [
    {
     "name": "stdout",
     "output_type": "stream",
     "text": [
      "  name  score  attempts qualify\n",
      "0    A   12.5         1     yes\n"
     ]
    }
   ],
   "source": [
    "print(df[(df['attempts']<2)& (df['score']>10)])"
   ]
  },
  {
   "cell_type": "code",
   "execution_count": 70,
   "id": "645f9f7e",
   "metadata": {},
   "outputs": [
    {
     "name": "stdout",
     "output_type": "stream",
     "text": [
      "  name  score  attempts qualify\n",
      "2    C    NaN         2     yes\n",
      "6    G    NaN         4     yes\n"
     ]
    }
   ],
   "source": [
    "print(df[df[\"score\"].isnull()])"
   ]
  },
  {
   "cell_type": "code",
   "execution_count": 71,
   "id": "c62cce37",
   "metadata": {},
   "outputs": [
    {
     "name": "stdout",
     "output_type": "stream",
     "text": [
      "name           A\n",
      "score       12.5\n",
      "attempts       1\n",
      "qualify      yes\n",
      "Name: 0, dtype: object ['name']\n"
     ]
    }
   ],
   "source": [
    "print(df.loc[0],['name'])"
   ]
  },
  {
   "cell_type": "code",
   "execution_count": 75,
   "id": "f0b4e21e",
   "metadata": {},
   "outputs": [
    {
     "name": "stdout",
     "output_type": "stream",
     "text": [
      "   attempts\n",
      "0         1\n",
      "1         3\n"
     ]
    }
   ],
   "source": [
    "print(df.iloc[[0,1],[2]])"
   ]
  },
  {
   "cell_type": "code",
   "execution_count": 78,
   "id": "45a1d712",
   "metadata": {},
   "outputs": [
    {
     "name": "stdout",
     "output_type": "stream",
     "text": [
      "  name  score  attempts qualify\n",
      "0    A   12.5         1     yes\n",
      "1    B    9.0         3      no\n",
      "2    C    NaN         2     yes\n",
      "3    D    5.0         1     yes\n",
      "4    E    6.0         2      no\n",
      "5    F    8.0         3     yes\n",
      "6    G    NaN         4     yes\n",
      "7    H   10.0         2      no\n",
      "8    I    7.0         3     yes\n",
      "9    J    9.0         4      no\n",
      "  name  score  attempts qualify\n",
      "0    A   12.5         1     yes\n",
      "1    B    9.0         3      no\n",
      "3    D    5.0         1     yes\n",
      "4    E    6.0         2      no\n",
      "5    F    8.0         3     yes\n",
      "7    H   10.0         2      no\n",
      "8    I    7.0         3     yes\n",
      "9    J    9.0         4      no\n"
     ]
    }
   ],
   "source": [
    "print(df)\n",
    "df_new=df.dropna()\n",
    "print(df_new)"
   ]
  },
  {
   "cell_type": "code",
   "execution_count": null,
   "id": "c87d761c",
   "metadata": {},
   "outputs": [],
   "source": []
  }
 ],
 "metadata": {
  "kernelspec": {
   "display_name": "Python 3 (ipykernel)",
   "language": "python",
   "name": "python3"
  },
  "language_info": {
   "codemirror_mode": {
    "name": "ipython",
    "version": 3
   },
   "file_extension": ".py",
   "mimetype": "text/x-python",
   "name": "python",
   "nbconvert_exporter": "python",
   "pygments_lexer": "ipython3",
   "version": "3.9.12"
  }
 },
 "nbformat": 4,
 "nbformat_minor": 5
}
